{
 "cells": [
  {
   "cell_type": "markdown",
   "metadata": {},
   "source": [
    "# Библиотеки"
   ]
  },
  {
   "cell_type": "code",
   "execution_count": 1,
   "metadata": {
    "collapsed": false
   },
   "outputs": [
    {
     "name": "stderr",
     "output_type": "stream",
     "text": [
      "Using TensorFlow backend.\n"
     ]
    }
   ],
   "source": [
    "import numpy as np\n",
    "import pandas as pd\n",
    "from PIL import Image\n",
    "import os\n",
    "from natsort import natsorted, ns\n",
    "\n",
    "import keras\n",
    "from keras.models import Model, Sequential, model_from_json\n",
    "from keras.layers import Input, Convolution2D, MaxPooling2D, Dense, Dropout, Flatten\n",
    "from keras.utils import np_utils\n",
    "\n",
    "import cv2\n",
    "from tqdm import tqdm\n",
    "\n",
    "from sklearn.metrics import fbeta_score\n",
    "from sklearn.model_selection import train_test_split\n",
    "from sklearn.preprocessing import LabelEncoder"
   ]
  },
  {
   "cell_type": "markdown",
   "metadata": {},
   "source": [
    "# Загрузка и обработка данных"
   ]
  },
  {
   "cell_type": "code",
   "execution_count": 21,
   "metadata": {
    "collapsed": false
   },
   "outputs": [
    {
     "data": {
      "text/html": [
       "<div>\n",
       "<table border=\"1\" class=\"dataframe\">\n",
       "  <thead>\n",
       "    <tr style=\"text-align: right;\">\n",
       "      <th></th>\n",
       "      <th>image_name</th>\n",
       "      <th>tags</th>\n",
       "    </tr>\n",
       "  </thead>\n",
       "  <tbody>\n",
       "    <tr>\n",
       "      <th>0</th>\n",
       "      <td>train_0</td>\n",
       "      <td>haze primary</td>\n",
       "    </tr>\n",
       "    <tr>\n",
       "      <th>1</th>\n",
       "      <td>train_1</td>\n",
       "      <td>agriculture clear primary water</td>\n",
       "    </tr>\n",
       "    <tr>\n",
       "      <th>2</th>\n",
       "      <td>train_2</td>\n",
       "      <td>clear primary</td>\n",
       "    </tr>\n",
       "    <tr>\n",
       "      <th>3</th>\n",
       "      <td>train_3</td>\n",
       "      <td>clear primary</td>\n",
       "    </tr>\n",
       "    <tr>\n",
       "      <th>4</th>\n",
       "      <td>train_4</td>\n",
       "      <td>agriculture clear habitation primary road</td>\n",
       "    </tr>\n",
       "  </tbody>\n",
       "</table>\n",
       "</div>"
      ],
      "text/plain": [
       "  image_name                                       tags\n",
       "0    train_0                               haze primary\n",
       "1    train_1            agriculture clear primary water\n",
       "2    train_2                              clear primary\n",
       "3    train_3                              clear primary\n",
       "4    train_4  agriculture clear habitation primary road"
      ]
     },
     "execution_count": 21,
     "metadata": {},
     "output_type": "execute_result"
    }
   ],
   "source": [
    "core_dir = 'Z:\\\\Kaggle Amazon Rainforest\\\\'\n",
    "#core_dir = 'C:\\\\Kaggle\\\\Understanding the Amazon from Space\\\\'\n",
    "train_dir = core_dir + 'train-jpg\\\\'\n",
    "test_dir = core_dir + 'test-jpg\\\\'\n",
    "add_test_dir = 'C:\\\\Users\\\\horch\\\\Desktop\\\\Local_data\\\\test-jpg-additional\\\\'\n",
    "\n",
    "test_data_names = natsorted(os.listdir(test_dir), key=lambda y: y.lower())\n",
    "add_test_data_names = os.listdir(add_test_dir)\n",
    "\n",
    "\n",
    "cathegories = ['agriculture', 'artisinal_mine', 'bare_ground', \n",
    "                      'blooming', 'blow_down', 'clear', 'cloudy', 'conventional_mine', \n",
    "                      'cultivation', 'habitation', 'haze', 'partly_cloudy', 'primary', \n",
    "                      'road', 'selective_logging', 'slash_burn', 'water']\n",
    "\n",
    "train_data = pd.read_csv(core_dir + 'train_v2.csv')\n",
    "train_data.head()"
   ]
  },
  {
   "cell_type": "markdown",
   "metadata": {},
   "source": [
    "# Функции"
   ]
  },
  {
   "cell_type": "markdown",
   "metadata": {},
   "source": [
    "подготовка тренировочной выборки по имени категории\n",
    "принимает категорию, возвращает массив из 0 и 1 (1 - файл содержит категорию, 0 - иначе)"
   ]
  },
  {
   "cell_type": "code",
   "execution_count": 22,
   "metadata": {
    "collapsed": false
   },
   "outputs": [],
   "source": [
    "def TrainingSetByCathegory(cathegory):\n",
    "    df = pd.DataFrame()\n",
    "    \n",
    "    df['image_name'] = train_data.image_name.values\n",
    "    df['indicator'] = np.zeros(train_data.shape[0])\n",
    "    \n",
    "    df.loc[df['image_name'].isin(cathegory_dict[cathegory]), ['indicator']] = 1\n",
    "    \n",
    "    return df.indicator.values"
   ]
  },
  {
   "cell_type": "markdown",
   "metadata": {},
   "source": [
    "формирование полной (по всем категориям) тестовой выборки"
   ]
  },
  {
   "cell_type": "code",
   "execution_count": 23,
   "metadata": {
    "collapsed": false
   },
   "outputs": [],
   "source": [
    "def TestSetWhole(data, col_name = 'tags'):\n",
    "    encoder = LabelEncoder()\n",
    "    encoder.fit(cathegories)\n",
    "    \n",
    "    result = np.zeros((data.shape[0], len(cathegories)))\n",
    "    \n",
    "    for i in range(data.shape[0]):\n",
    "        tag = data[col_name][i]\n",
    "        tag = tag.split(' ')\n",
    "        v = encoder.transform(tag)\n",
    "        \n",
    "        for j in v:\n",
    "            result[i, j] = 1\n",
    "    \n",
    "    return(result)"
   ]
  },
  {
   "cell_type": "markdown",
   "metadata": {},
   "source": [
    "функция предназначенная для конвертации .jpg изображения в numpy массив\n",
    "если transparency = False, то каждая точка представляется 3 числами иначе - 4"
   ]
  },
  {
   "cell_type": "code",
   "execution_count": 24,
   "metadata": {
    "collapsed": false
   },
   "outputs": [],
   "source": [
    "def ImageToNumpy(img_name, img_dir = train_dir, img_type = '.jpg', transparency = False):\n",
    "    img = Image.open(train_dir + img_name + img_type)\n",
    "    img.load()\n",
    "    data = np.asarray( img, dtype=\"int32\" )\n",
    "    img.close()\n",
    "    \n",
    "    if transparency:\n",
    "        return data\n",
    "    else:\n",
    "        return data[:, :, 0:3]"
   ]
  },
  {
   "cell_type": "markdown",
   "metadata": {},
   "source": [
    "функция для конвертации вектора компоненты которого принадлежат [0, 1] в вектор из 0 и 1 при заданном пороге (treshold)"
   ]
  },
  {
   "cell_type": "code",
   "execution_count": 25,
   "metadata": {
    "collapsed": false
   },
   "outputs": [],
   "source": [
    "def BinimialPrediction(x, treshold = 0.5):\n",
    "    result = np.zeros(x.shape)\n",
    "    \n",
    "    for i in range(x.shape[0]):\n",
    "        for j in range(x.shape[1]):\n",
    "            if x[i, j] >= treshold:\n",
    "                result[i, j] = 1\n",
    "    \n",
    "    return(result)\n",
    "\n",
    "def FBettaScore(x_true, x_predicted, betta = 2):\n",
    "    if len(x_true) == len(x_predicted):\n",
    "        tp = 0\n",
    "        fp = 0\n",
    "        fn = 0\n",
    "\n",
    "        for i in range(len(x_predicted)):\n",
    "            if x_true[i] == 1 and x_predicted[i] == 1:\n",
    "                tp += 1\n",
    "            \n",
    "            if x_true[i] == 0 and x_predicted[i] == 1:\n",
    "                fp += 1\n",
    "            \n",
    "            if x_true[i] == 1 and x_predicted[i] == 0:\n",
    "                fn += 1\n",
    "        \n",
    "        if tp == 0 or (tp + fp) == 0 or (tp + fn) == 0:\n",
    "            return(0)\n",
    "        else:\n",
    "            precision = tp/(tp + fp)\n",
    "            recall = tp/(tp + fn)\n",
    "            \n",
    "            #print(precision, recall)\n",
    "            return((1 + betta**2)*precision*recall/(betta**2*precision + recall))\n",
    "    else:\n",
    "        print('FBettaScore error! len(x_true) != len(x_predicted)')\n",
    "\n",
    "def AvgFBettaScore(x_true, x_predicted, betta = 2):\n",
    "    result = 0\n",
    "    n = x_true.shape[0]\n",
    "    \n",
    "    x_predicted = BinimialPrediction(x_predicted)\n",
    "    \n",
    "    for i in range(n):\n",
    "        result += FBettaScore(x_true[i, :], x_predicted[i, :], betta)\n",
    "    \n",
    "    return(result/n)\n"
   ]
  },
  {
   "cell_type": "markdown",
   "metadata": {},
   "source": [
    "# Вычисления"
   ]
  },
  {
   "cell_type": "markdown",
   "metadata": {},
   "source": [
    "создадим словарь категорий\n",
    "каждой категории будет соответствовать список файлов, в которых данная категория присутствует"
   ]
  },
  {
   "cell_type": "code",
   "execution_count": 26,
   "metadata": {
    "collapsed": false
   },
   "outputs": [],
   "source": [
    "cathegory_dict = {cathegory: [] for cathegory in cathegories}\n",
    "\n",
    "ind = 0\n",
    "for tag in train_data.tags.values:\n",
    "    file_name = train_data.image_name[ind]\n",
    "    \n",
    "    cathegory_names_list = tag.split(' ')\n",
    "    \n",
    "    for cathegory in cathegory_names_list:\n",
    "        cathegory_dict[cathegory].append(file_name)\n",
    "    \n",
    "    ind += 1   "
   ]
  },
  {
   "cell_type": "markdown",
   "metadata": {},
   "source": [
    "формирование обучающей выборки"
   ]
  },
  {
   "cell_type": "code",
   "execution_count": 27,
   "metadata": {
    "collapsed": false
   },
   "outputs": [
    {
     "name": "stderr",
     "output_type": "stream",
     "text": [
      "100%|████████████████████████████████████| 40479/40479 [12:42<00:00, 53.08it/s]\n"
     ]
    }
   ],
   "source": [
    "X = []\n",
    "\n",
    "for img_name in tqdm(train_data.image_name.values):\n",
    "    \n",
    "    img = cv2.imread(train_dir + img_name + '.jpg')\n",
    "    res = cv2.resize(img, (32, 32))\n",
    "    X.append(res)\n",
    "    \n",
    "X = np.array(X, np.float16) / 255."
   ]
  },
  {
   "cell_type": "markdown",
   "metadata": {},
   "source": [
    "формирование тестовой выборки"
   ]
  },
  {
   "cell_type": "code",
   "execution_count": 28,
   "metadata": {
    "collapsed": false
   },
   "outputs": [],
   "source": [
    "Y = TestSetWhole(train_data)"
   ]
  },
  {
   "cell_type": "markdown",
   "metadata": {},
   "source": [
    "разбиение выборки на обучение и тест"
   ]
  },
  {
   "cell_type": "code",
   "execution_count": 29,
   "metadata": {
    "collapsed": true
   },
   "outputs": [],
   "source": [
    "x_train, x_test, y_train, y_test = train_test_split(X, Y, test_size=0.3, random_state=42)"
   ]
  },
  {
   "cell_type": "markdown",
   "metadata": {
    "collapsed": false
   },
   "source": [
    "# Настройка и  обучение сети для всех категорий"
   ]
  },
  {
   "cell_type": "code",
   "execution_count": 40,
   "metadata": {
    "collapsed": true
   },
   "outputs": [],
   "source": [
    "batch_size = 128 # in each iteration, we consider 32 training examples at once\n",
    "num_epochs = 100 # we iterate 200 times over the entire training set\n",
    "kernel_size = 3 # we will use 3x3 kernels throughout\n",
    "pool_size = 2 # we will use 2x2 pooling throughout\n",
    "conv_depth_1 = 32 # we will initially have 32 kernels per conv. layer...\n",
    "conv_depth_2 = 64 # ...switching to 64 after the first pooling layer\n",
    "drop_prob_1 = 0.25 # dropout after pooling with probability 0.25\n",
    "drop_prob_2 = 0.5 # dropout in the FC layer with probability 0.5\n",
    "hidden_size = 512 # the FC layer will have 512 neurons"
   ]
  },
  {
   "cell_type": "code",
   "execution_count": 41,
   "metadata": {
    "collapsed": false
   },
   "outputs": [],
   "source": [
    "# загрузка изображений и их приведение к подходящему для обработки виду\n",
    "num_train = 40479\n",
    "depth = 32 \n",
    "height = 32\n",
    "width = 3 \n",
    "\n",
    "num_classes = len(cathegories)\n",
    "\n",
    "#y_train = TrainingSetByCathegory(cathegories[0]) #y_train labels (для категории_0 1, если подходит, 0-иначе)\n",
    "#Y_train = np_utils.to_categorical(y_train, num_classes) # One-hot encode the labels\n",
    "#X_train = X"
   ]
  },
  {
   "cell_type": "code",
   "execution_count": null,
   "metadata": {
    "collapsed": false
   },
   "outputs": [],
   "source": [
    "# переделать\n",
    "'''\n",
    "def f2_metric(y_true, y_pred):\n",
    "    result = []\n",
    "    for i in range(y_true.shape[0]):\n",
    "        result.append(fbeta_score(y_true[i, :], y_pred[i, :], 2))\n",
    "    \n",
    "    result = np.mean(result)\n",
    "    \n",
    "    return(result)\n",
    "'''"
   ]
  },
  {
   "cell_type": "code",
   "execution_count": 42,
   "metadata": {
    "collapsed": false
   },
   "outputs": [
    {
     "name": "stderr",
     "output_type": "stream",
     "text": [
      "C:\\Users\\horch\\Anaconda2\\envs\\tensorflow\\lib\\site-packages\\ipykernel\\__main__.py:5: UserWarning: Update your `Conv2D` call to the Keras 2 API: `Conv2D(32, (3, 3), activation=\"relu\", padding=\"same\")`\n",
      "C:\\Users\\horch\\Anaconda2\\envs\\tensorflow\\lib\\site-packages\\ipykernel\\__main__.py:6: UserWarning: Update your `Conv2D` call to the Keras 2 API: `Conv2D(32, (3, 3), activation=\"relu\", padding=\"same\")`\n",
      "C:\\Users\\horch\\Anaconda2\\envs\\tensorflow\\lib\\site-packages\\ipykernel\\__main__.py:12: UserWarning: Update your `Conv2D` call to the Keras 2 API: `Conv2D(64, (3, 3), activation=\"relu\", padding=\"same\")`\n",
      "C:\\Users\\horch\\Anaconda2\\envs\\tensorflow\\lib\\site-packages\\ipykernel\\__main__.py:13: UserWarning: Update your `Conv2D` call to the Keras 2 API: `Conv2D(64, (3, 3), activation=\"relu\", padding=\"same\")`\n",
      "C:\\Users\\horch\\Anaconda2\\envs\\tensorflow\\lib\\site-packages\\ipykernel\\__main__.py:27: UserWarning: Update your `Model` call to the Keras 2 API: `Model(inputs=Tensor(\"in..., outputs=Tensor(\"de...)`\n",
      "C:\\Users\\horch\\Anaconda2\\envs\\tensorflow\\lib\\site-packages\\ipykernel\\__main__.py:35: UserWarning: The `nb_epoch` argument in `fit` has been renamed `epochs`.\n"
     ]
    },
    {
     "name": "stdout",
     "output_type": "stream",
     "text": [
      "Train on 22668 samples, validate on 5667 samples\n",
      "Epoch 1/100\n",
      "22668/22668 [==============================] - 264s - loss: 0.2440 - acc: 0.9069 - val_loss: 0.2040 - val_acc: 0.9171\n",
      "Epoch 2/100\n",
      "22668/22668 [==============================] - 276s - loss: 0.1922 - acc: 0.9237 - val_loss: 0.1759 - val_acc: 0.9307\n",
      "Epoch 3/100\n",
      "22668/22668 [==============================] - 297s - loss: 0.1732 - acc: 0.9312 - val_loss: 0.1641 - val_acc: 0.9337\n",
      "Epoch 4/100\n",
      "22668/22668 [==============================] - 299s - loss: 0.1639 - acc: 0.9352 - val_loss: 0.1626 - val_acc: 0.9353\n",
      "Epoch 5/100\n",
      "22668/22668 [==============================] - 308s - loss: 0.1560 - acc: 0.9380 - val_loss: 0.1603 - val_acc: 0.9363\n",
      "Epoch 6/100\n",
      "22668/22668 [==============================] - 303s - loss: 0.1512 - acc: 0.9400 - val_loss: 0.1469 - val_acc: 0.9416\n",
      "Epoch 7/100\n",
      "22668/22668 [==============================] - 300s - loss: 0.1457 - acc: 0.9427 - val_loss: 0.1420 - val_acc: 0.9440\n",
      "Epoch 8/100\n",
      "22668/22668 [==============================] - 298s - loss: 0.1403 - acc: 0.9442 - val_loss: 0.1381 - val_acc: 0.9439\n",
      "Epoch 9/100\n",
      "22668/22668 [==============================] - 300s - loss: 0.1392 - acc: 0.9447 - val_loss: 0.1392 - val_acc: 0.9441\n",
      "Epoch 10/100\n",
      "22668/22668 [==============================] - 300s - loss: 0.1348 - acc: 0.9463 - val_loss: 0.1394 - val_acc: 0.9436\n",
      "Epoch 11/100\n",
      "22668/22668 [==============================] - 332s - loss: 0.1341 - acc: 0.9467 - val_loss: 0.1422 - val_acc: 0.9441\n",
      "Epoch 12/100\n",
      "22668/22668 [==============================] - 332s - loss: 0.1309 - acc: 0.9480 - val_loss: 0.1303 - val_acc: 0.9481\n",
      "Epoch 13/100\n",
      "22668/22668 [==============================] - 347s - loss: 0.1283 - acc: 0.9488 - val_loss: 0.1522 - val_acc: 0.9382\n",
      "Epoch 14/100\n",
      "22668/22668 [==============================] - 357s - loss: 0.1267 - acc: 0.9498 - val_loss: 0.1385 - val_acc: 0.9455\n",
      "Epoch 15/100\n",
      "22668/22668 [==============================] - 358s - loss: 0.1243 - acc: 0.9504 - val_loss: 0.1280 - val_acc: 0.9498\n",
      "Epoch 16/100\n",
      "22668/22668 [==============================] - 361s - loss: 0.1221 - acc: 0.9514 - val_loss: 0.1407 - val_acc: 0.9451\n",
      "Epoch 17/100\n",
      "22668/22668 [==============================] - 367s - loss: 0.1225 - acc: 0.9509 - val_loss: 0.1284 - val_acc: 0.9496\n",
      "Epoch 18/100\n",
      "22668/22668 [==============================] - 336s - loss: 0.1194 - acc: 0.9523 - val_loss: 0.1311 - val_acc: 0.9496\n",
      "Epoch 19/100\n",
      "22668/22668 [==============================] - 309s - loss: 0.1172 - acc: 0.9531 - val_loss: 0.1361 - val_acc: 0.9474\n",
      "Epoch 20/100\n",
      "22668/22668 [==============================] - 308s - loss: 0.1156 - acc: 0.9540 - val_loss: 0.1304 - val_acc: 0.9496\n",
      "Epoch 21/100\n",
      "22668/22668 [==============================] - 307s - loss: 0.1134 - acc: 0.9546 - val_loss: 0.1233 - val_acc: 0.9516\n",
      "Epoch 22/100\n",
      "22668/22668 [==============================] - 303s - loss: 0.1109 - acc: 0.9552 - val_loss: 0.1745 - val_acc: 0.9311\n",
      "Epoch 23/100\n",
      "22668/22668 [==============================] - 302s - loss: 0.1105 - acc: 0.9556 - val_loss: 0.1303 - val_acc: 0.9490\n",
      "Epoch 24/100\n",
      "22668/22668 [==============================] - 303s - loss: 0.1073 - acc: 0.9568 - val_loss: 0.1250 - val_acc: 0.9519\n",
      "Epoch 25/100\n",
      "22668/22668 [==============================] - 302s - loss: 0.1057 - acc: 0.9574 - val_loss: 0.1232 - val_acc: 0.9530\n",
      "Epoch 26/100\n",
      "22668/22668 [==============================] - 302s - loss: 0.1049 - acc: 0.9580 - val_loss: 0.1336 - val_acc: 0.9487\n",
      "Epoch 27/100\n",
      "22668/22668 [==============================] - 301s - loss: 0.1025 - acc: 0.9588 - val_loss: 0.1288 - val_acc: 0.9513\n",
      "Epoch 28/100\n",
      "22668/22668 [==============================] - 300s - loss: 0.1002 - acc: 0.9599 - val_loss: 0.1248 - val_acc: 0.9523\n",
      "Epoch 29/100\n",
      "22668/22668 [==============================] - 301s - loss: 0.0985 - acc: 0.9604 - val_loss: 0.1339 - val_acc: 0.9492\n",
      "Epoch 30/100\n",
      "22668/22668 [==============================] - 303s - loss: 0.0980 - acc: 0.9605 - val_loss: 0.1296 - val_acc: 0.9536\n",
      "Epoch 31/100\n",
      "22668/22668 [==============================] - 301s - loss: 0.0975 - acc: 0.9608 - val_loss: 0.1289 - val_acc: 0.9520\n",
      "Epoch 32/100\n",
      "22668/22668 [==============================] - 303s - loss: 0.0920 - acc: 0.9626 - val_loss: 0.1329 - val_acc: 0.9521\n",
      "Epoch 33/100\n",
      "22668/22668 [==============================] - 305s - loss: 0.0912 - acc: 0.9630 - val_loss: 0.1320 - val_acc: 0.9515\n",
      "Epoch 34/100\n",
      "22668/22668 [==============================] - 302s - loss: 0.0897 - acc: 0.9637 - val_loss: 0.1307 - val_acc: 0.9532\n",
      "Epoch 35/100\n",
      "22668/22668 [==============================] - 301s - loss: 0.0875 - acc: 0.9647 - val_loss: 0.1390 - val_acc: 0.9512\n",
      "Epoch 36/100\n",
      "22668/22668 [==============================] - 301s - loss: 0.0875 - acc: 0.9644 - val_loss: 0.1428 - val_acc: 0.9509\n",
      "Epoch 37/100\n",
      "22668/22668 [==============================] - 302s - loss: 0.0850 - acc: 0.9658 - val_loss: 0.1403 - val_acc: 0.9490\n",
      "Epoch 38/100\n",
      "22668/22668 [==============================] - 303s - loss: 0.0836 - acc: 0.9661 - val_loss: 0.1377 - val_acc: 0.9513\n",
      "Epoch 39/100\n",
      "22668/22668 [==============================] - 304s - loss: 0.0816 - acc: 0.9669 - val_loss: 0.1439 - val_acc: 0.9504\n",
      "Epoch 40/100\n",
      "22668/22668 [==============================] - 302s - loss: 0.0798 - acc: 0.9676 - val_loss: 0.1394 - val_acc: 0.9499\n",
      "Epoch 41/100\n",
      "22668/22668 [==============================] - 303s - loss: 0.0783 - acc: 0.9686 - val_loss: 0.1417 - val_acc: 0.9513\n",
      "Epoch 42/100\n",
      "22668/22668 [==============================] - 308s - loss: 0.0774 - acc: 0.9687 - val_loss: 0.1425 - val_acc: 0.9505\n",
      "Epoch 43/100\n",
      "22668/22668 [==============================] - 302s - loss: 0.0767 - acc: 0.9688 - val_loss: 0.1439 - val_acc: 0.9529\n",
      "Epoch 44/100\n",
      "22668/22668 [==============================] - 303s - loss: 0.0745 - acc: 0.9697 - val_loss: 0.1440 - val_acc: 0.9516\n",
      "Epoch 45/100\n",
      "22668/22668 [==============================] - 303s - loss: 0.0738 - acc: 0.9702 - val_loss: 0.1408 - val_acc: 0.9515\n",
      "Epoch 46/100\n",
      "22668/22668 [==============================] - 304s - loss: 0.0725 - acc: 0.9706 - val_loss: 0.1467 - val_acc: 0.9524\n",
      "Epoch 47/100\n",
      "22668/22668 [==============================] - 304s - loss: 0.0706 - acc: 0.9714 - val_loss: 0.1465 - val_acc: 0.9511\n",
      "Epoch 48/100\n",
      "22668/22668 [==============================] - 303s - loss: 0.0696 - acc: 0.9720 - val_loss: 0.1473 - val_acc: 0.9525\n",
      "Epoch 49/100\n",
      "22668/22668 [==============================] - 303s - loss: 0.0682 - acc: 0.9724 - val_loss: 0.1509 - val_acc: 0.9514\n",
      "Epoch 50/100\n",
      "22668/22668 [==============================] - 303s - loss: 0.0668 - acc: 0.9729 - val_loss: 0.1564 - val_acc: 0.9478\n",
      "Epoch 51/100\n",
      "22668/22668 [==============================] - 305s - loss: 0.0679 - acc: 0.9727 - val_loss: 0.1517 - val_acc: 0.9520\n",
      "Epoch 52/100\n",
      "22668/22668 [==============================] - 307s - loss: 0.0652 - acc: 0.9739 - val_loss: 0.1517 - val_acc: 0.9496\n",
      "Epoch 53/100\n",
      "22668/22668 [==============================] - 303s - loss: 0.0651 - acc: 0.9741 - val_loss: 0.1538 - val_acc: 0.9524\n",
      "Epoch 54/100\n",
      "22668/22668 [==============================] - 302s - loss: 0.0630 - acc: 0.9746 - val_loss: 0.1563 - val_acc: 0.9518\n",
      "Epoch 55/100\n",
      "22668/22668 [==============================] - 300s - loss: 0.0620 - acc: 0.9750 - val_loss: 0.1626 - val_acc: 0.9493\n",
      "Epoch 56/100\n",
      "22668/22668 [==============================] - 300s - loss: 0.0640 - acc: 0.9743 - val_loss: 0.1567 - val_acc: 0.9506\n",
      "Epoch 57/100\n",
      "22668/22668 [==============================] - 299s - loss: 0.0617 - acc: 0.9750 - val_loss: 0.1608 - val_acc: 0.9508\n",
      "Epoch 58/100\n",
      "22668/22668 [==============================] - 302s - loss: 0.0603 - acc: 0.9758 - val_loss: 0.1678 - val_acc: 0.9515\n",
      "Epoch 59/100\n",
      "22668/22668 [==============================] - 303s - loss: 0.0587 - acc: 0.9763 - val_loss: 0.1640 - val_acc: 0.9518\n",
      "Epoch 60/100\n",
      "22668/22668 [==============================] - 306s - loss: 0.0592 - acc: 0.9762 - val_loss: 0.1570 - val_acc: 0.9501\n",
      "Epoch 61/100\n",
      "22668/22668 [==============================] - 307s - loss: 0.0564 - acc: 0.9772 - val_loss: 0.1664 - val_acc: 0.9520\n",
      "Epoch 62/100\n",
      "22668/22668 [==============================] - 300s - loss: 0.0576 - acc: 0.9770 - val_loss: 0.1634 - val_acc: 0.9521\n",
      "Epoch 63/100\n",
      "22668/22668 [==============================] - 298s - loss: 0.0553 - acc: 0.9777 - val_loss: 0.1637 - val_acc: 0.9513\n",
      "Epoch 64/100\n",
      "22668/22668 [==============================] - 298s - loss: 0.0550 - acc: 0.9779 - val_loss: 0.1638 - val_acc: 0.9517\n",
      "Epoch 65/100\n",
      "22668/22668 [==============================] - 298s - loss: 0.0552 - acc: 0.9776 - val_loss: 0.1642 - val_acc: 0.9513\n",
      "Epoch 66/100\n",
      "22668/22668 [==============================] - 300s - loss: 0.0544 - acc: 0.9779 - val_loss: 0.1660 - val_acc: 0.9476\n",
      "Epoch 67/100\n",
      "22668/22668 [==============================] - 299s - loss: 0.0539 - acc: 0.9785 - val_loss: 0.1696 - val_acc: 0.9521\n",
      "Epoch 68/100\n",
      "22668/22668 [==============================] - 301s - loss: 0.0527 - acc: 0.9789 - val_loss: 0.1729 - val_acc: 0.9514\n",
      "Epoch 69/100\n",
      "22668/22668 [==============================] - 300s - loss: 0.0508 - acc: 0.9798 - val_loss: 0.1707 - val_acc: 0.9497\n",
      "Epoch 70/100\n",
      "22668/22668 [==============================] - 298s - loss: 0.0521 - acc: 0.9790 - val_loss: 0.1746 - val_acc: 0.9508\n",
      "Epoch 71/100\n",
      "22668/22668 [==============================] - 301s - loss: 0.0509 - acc: 0.9797 - val_loss: 0.1743 - val_acc: 0.9508\n",
      "Epoch 72/100\n",
      "22668/22668 [==============================] - 299s - loss: 0.0497 - acc: 0.9800 - val_loss: 0.1756 - val_acc: 0.9507\n",
      "Epoch 73/100\n",
      "22668/22668 [==============================] - 298s - loss: 0.0493 - acc: 0.9803 - val_loss: 0.1813 - val_acc: 0.9507\n",
      "Epoch 74/100\n",
      "22668/22668 [==============================] - 298s - loss: 0.0485 - acc: 0.9804 - val_loss: 0.1803 - val_acc: 0.9506\n",
      "Epoch 75/100\n",
      "22668/22668 [==============================] - 298s - loss: 0.0490 - acc: 0.9807 - val_loss: 0.1827 - val_acc: 0.9515\n",
      "Epoch 76/100\n",
      "22668/22668 [==============================] - 298s - loss: 0.0490 - acc: 0.9803 - val_loss: 0.1774 - val_acc: 0.9500\n",
      "Epoch 77/100\n",
      "22668/22668 [==============================] - 297s - loss: 0.0474 - acc: 0.9808 - val_loss: 0.1856 - val_acc: 0.9482\n",
      "Epoch 78/100\n",
      "22668/22668 [==============================] - 297s - loss: 0.0495 - acc: 0.9804 - val_loss: 0.1991 - val_acc: 0.9454\n",
      "Epoch 79/100\n",
      "22668/22668 [==============================] - 299s - loss: 0.0481 - acc: 0.9810 - val_loss: 0.1846 - val_acc: 0.9513\n",
      "Epoch 80/100\n",
      "22668/22668 [==============================] - 299s - loss: 0.0459 - acc: 0.9818 - val_loss: 0.1944 - val_acc: 0.9500\n",
      "Epoch 81/100\n",
      "22668/22668 [==============================] - 299s - loss: 0.0459 - acc: 0.9816 - val_loss: 0.1856 - val_acc: 0.9511\n",
      "Epoch 82/100\n",
      "22668/22668 [==============================] - 298s - loss: 0.0458 - acc: 0.9819 - val_loss: 0.1791 - val_acc: 0.9500\n",
      "Epoch 83/100\n",
      "22668/22668 [==============================] - 300s - loss: 0.0447 - acc: 0.9822 - val_loss: 0.1850 - val_acc: 0.9502\n",
      "Epoch 84/100\n",
      "22668/22668 [==============================] - 299s - loss: 0.0448 - acc: 0.9824 - val_loss: 0.1815 - val_acc: 0.9515\n",
      "Epoch 85/100\n",
      "22668/22668 [==============================] - 303s - loss: 0.0442 - acc: 0.9824 - val_loss: 0.1825 - val_acc: 0.9512\n",
      "Epoch 86/100\n",
      "22668/22668 [==============================] - 320s - loss: 0.0433 - acc: 0.9829 - val_loss: 0.1878 - val_acc: 0.9508\n",
      "Epoch 87/100\n",
      "22668/22668 [==============================] - 301s - loss: 0.0436 - acc: 0.9826 - val_loss: 0.1769 - val_acc: 0.9509\n",
      "Epoch 88/100\n",
      "22668/22668 [==============================] - 300s - loss: 0.0430 - acc: 0.9832 - val_loss: 0.1830 - val_acc: 0.9515\n",
      "Epoch 89/100\n",
      "22668/22668 [==============================] - 302s - loss: 0.0419 - acc: 0.9834 - val_loss: 0.1917 - val_acc: 0.9516\n",
      "Epoch 90/100\n",
      "22668/22668 [==============================] - 300s - loss: 0.0420 - acc: 0.9836 - val_loss: 0.1873 - val_acc: 0.9512\n",
      "Epoch 91/100\n",
      "22668/22668 [==============================] - 300s - loss: 0.0435 - acc: 0.9825 - val_loss: 0.1918 - val_acc: 0.9511\n",
      "Epoch 92/100\n",
      "22668/22668 [==============================] - 306s - loss: 0.0418 - acc: 0.9833 - val_loss: 0.1866 - val_acc: 0.9509\n",
      "Epoch 93/100\n",
      "22668/22668 [==============================] - 305s - loss: 0.0420 - acc: 0.9832 - val_loss: 0.1890 - val_acc: 0.9510\n",
      "Epoch 94/100\n",
      "22668/22668 [==============================] - 310s - loss: 0.0417 - acc: 0.9834 - val_loss: 0.1921 - val_acc: 0.9505\n",
      "Epoch 95/100\n",
      "22668/22668 [==============================] - 310s - loss: 0.0414 - acc: 0.9835 - val_loss: 0.1913 - val_acc: 0.9513\n",
      "Epoch 96/100\n",
      "22668/22668 [==============================] - 300s - loss: 0.0403 - acc: 0.9841 - val_loss: 0.1895 - val_acc: 0.9510\n",
      "Epoch 97/100\n",
      "22668/22668 [==============================] - 295s - loss: 0.0413 - acc: 0.9838 - val_loss: 0.1919 - val_acc: 0.9513\n",
      "Epoch 98/100\n",
      "22668/22668 [==============================] - 297s - loss: 0.0407 - acc: 0.9840 - val_loss: 0.1941 - val_acc: 0.9514\n",
      "Epoch 99/100\n",
      "22668/22668 [==============================] - 300s - loss: 0.0399 - acc: 0.9842 - val_loss: 0.1966 - val_acc: 0.9519\n",
      "Epoch 100/100\n",
      "22668/22668 [==============================] - 305s - loss: 0.0403 - acc: 0.9839 - val_loss: 0.1965 - val_acc: 0.9515\n"
     ]
    },
    {
     "data": {
      "text/plain": [
       "<keras.callbacks.History at 0x23ba6710>"
      ]
     },
     "execution_count": 42,
     "metadata": {},
     "output_type": "execute_result"
    }
   ],
   "source": [
    "inp = Input(shape=(depth, height, width)) # N.B. depth goes first in Keras!\n",
    "\n",
    "# Conv [32] -> Conv [32] -> Pool (with dropout on the pooling layer)\n",
    "\n",
    "conv_1 = Convolution2D(conv_depth_1, kernel_size, kernel_size, border_mode='same', activation='relu')(inp)\n",
    "conv_2 = Convolution2D(conv_depth_1, kernel_size, kernel_size, border_mode='same', activation='relu')(conv_1)\n",
    "pool_1 = MaxPooling2D(pool_size=(pool_size, pool_size))(conv_2)\n",
    "drop_1 = Dropout(drop_prob_1)(pool_1)\n",
    "\n",
    "# Conv [64] -> Conv [64] -> Pool (with dropout on the pooling layer)\n",
    "\n",
    "conv_3 = Convolution2D(conv_depth_2, kernel_size, kernel_size, border_mode='same', activation='relu')(drop_1)\n",
    "conv_4 = Convolution2D(conv_depth_2, kernel_size, kernel_size, border_mode='same', activation='relu')(conv_3)\n",
    "pool_2 = MaxPooling2D(pool_size=(pool_size, pool_size))(conv_4)\n",
    "drop_2 = Dropout(drop_prob_1)(pool_2)\n",
    "\n",
    "# Now flatten to 1D, apply FC -> ReLU (with dropout) -> softmax\n",
    "\n",
    "flat = Flatten()(drop_2)\n",
    "\n",
    "hidden = Dense(hidden_size, activation='relu')(flat)\n",
    "\n",
    "drop_3 = Dropout(drop_prob_2)(hidden)\n",
    "\n",
    "out = Dense(num_classes, activation='sigmoid')(drop_3)\n",
    "\n",
    "model = Model(input=inp, output=out) # To define a model, just specify its input and output layers\n",
    "\n",
    "model.compile(loss='binary_crossentropy', # using the cross-entropy loss function\n",
    "              optimizer='adam', # using the Adam optimiser\n",
    "              metrics=['accuracy']) # reporting the accuracy\n",
    "\n",
    "model.fit(x_train, y_train, # Train the model using the training set...\n",
    "          batch_size=batch_size, nb_epoch=num_epochs,\n",
    "          verbose=1, validation_split=0.2) # ...holding out 10% of the data for validation\n",
    "\n",
    "#model.evaluate(x_test, y_test, verbose=1) # Evaluate the trained model on the test set!\n",
    "#cnn_prediction = model.predict(x_test)"
   ]
  },
  {
   "cell_type": "code",
   "execution_count": null,
   "metadata": {
    "collapsed": false
   },
   "outputs": [],
   "source": []
  },
  {
   "cell_type": "code",
   "execution_count": 43,
   "metadata": {
    "collapsed": true
   },
   "outputs": [],
   "source": [
    "# Генерируем описание модели в формате json\n",
    "model_json = model.to_json()\n",
    "# Записываем модель в файл\n",
    "json_file = open(\"C:\\\\Users\\\\horch\\\\Desktop\\\\Local_data\\\\model_add.json\", \"w\")\n",
    "json_file.write(model_json)\n",
    "json_file.close()\n",
    "\n",
    "model.save_weights(\"C:\\\\Users\\\\horch\\\\Desktop\\\\Local_data\\\\model_add.h5\")"
   ]
  },
  {
   "cell_type": "code",
   "execution_count": null,
   "metadata": {
    "collapsed": false
   },
   "outputs": [],
   "source": []
  },
  {
   "cell_type": "markdown",
   "metadata": {},
   "source": [
    "## Делаем предсказание"
   ]
  },
  {
   "cell_type": "code",
   "execution_count": 44,
   "metadata": {
    "collapsed": false
   },
   "outputs": [
    {
     "name": "stdout",
     "output_type": "stream",
     "text": [
      "Loaded model from disk\n"
     ]
    }
   ],
   "source": [
    "# load json and create model\n",
    "json_file = open('C:\\\\Users\\\\horch\\\\Desktop\\\\Local_data\\\\model_add.json', 'r')\n",
    "loaded_model_json = json_file.read()\n",
    "json_file.close()\n",
    "loaded_model = model_from_json(loaded_model_json)\n",
    "\n",
    "# load weights into new model\n",
    "loaded_model.load_weights('C:\\\\Users\\\\horch\\\\Desktop\\\\Local_data\\\\model_add.h5')\n",
    "print(\"Loaded model from disk\")\n",
    " \n",
    "# evaluate loaded model on test data\n",
    "loaded_model.compile(loss='binary_crossentropy', optimizer='adam', metrics=['accuracy'])"
   ]
  },
  {
   "cell_type": "markdown",
   "metadata": {},
   "source": [
    "функция для формирования тестовой выборки"
   ]
  },
  {
   "cell_type": "code",
   "execution_count": 32,
   "metadata": {
    "collapsed": false
   },
   "outputs": [
    {
     "name": "stderr",
     "output_type": "stream",
     "text": [
      "100%|███████████████████████████████████| 20522/20522 [01:13<00:00, 277.89it/s]\n"
     ]
    }
   ],
   "source": [
    "X_pred_add = []\n",
    "\n",
    "for img_name in tqdm(add_test_data_names):\n",
    "    #print(img_name)\n",
    "    if img_name.endswith(\"jpg\"):\n",
    "        img = cv2.imread(add_test_dir + img_name)\n",
    "        res = cv2.resize(img, (32, 32))\n",
    "        X_pred_add.append(res)\n",
    "    else:\n",
    "        print(\"This file is not jpg: \" + img_name)\n",
    "    \n",
    "    \n",
    "X_pred_add = np.array(X_pred_add, np.float16) / 255."
   ]
  },
  {
   "cell_type": "code",
   "execution_count": 33,
   "metadata": {
    "collapsed": false
   },
   "outputs": [
    {
     "name": "stderr",
     "output_type": "stream",
     "text": [
      "100%|███████████████████████████████████▉| 40663/40670 [13:59<00:00, 59.04it/s]"
     ]
    },
    {
     "name": "stdout",
     "output_type": "stream",
     "text": [
      "This file is not jpg: Thumbs.db\n"
     ]
    },
    {
     "name": "stderr",
     "output_type": "stream",
     "text": [
      "100%|████████████████████████████████████| 40670/40670 [14:00<00:00, 48.42it/s]\n"
     ]
    }
   ],
   "source": [
    "X_pred = []\n",
    "\n",
    "for img_name in tqdm(test_data_names):\n",
    "    if img_name.endswith(\"jpg\"):\n",
    "        img = cv2.imread(test_dir + img_name)\n",
    "        res = cv2.resize(img, (32, 32))\n",
    "        X_pred.append(res)\n",
    "    else:\n",
    "        print(\"This file is not jpg: \" + img_name)\n",
    "    \n",
    "    \n",
    "X_pred = np.array(X_pred, np.float16) / 255."
   ]
  },
  {
   "cell_type": "code",
   "execution_count": 45,
   "metadata": {
    "collapsed": false
   },
   "outputs": [],
   "source": [
    "img_prediction = loaded_model.predict(X_pred)"
   ]
  },
  {
   "cell_type": "code",
   "execution_count": 46,
   "metadata": {
    "collapsed": true
   },
   "outputs": [],
   "source": [
    "img_prediction_add = loaded_model.predict(X_pred_add)"
   ]
  },
  {
   "cell_type": "code",
   "execution_count": 47,
   "metadata": {
    "collapsed": true
   },
   "outputs": [],
   "source": [
    "local_dir = 'C:\\\\Users\\\\horch\\\\Desktop\\\\Local_data\\\\'"
   ]
  },
  {
   "cell_type": "code",
   "execution_count": 48,
   "metadata": {
    "collapsed": false
   },
   "outputs": [
    {
     "name": "stderr",
     "output_type": "stream",
     "text": [
      "100%|█████████████████████████████████| 40670/40670 [00:03<00:00, 13040.06it/s]\n"
     ]
    }
   ],
   "source": [
    "csv_file_dir = local_dir + 'submission.csv'\n",
    "submission_csv = open(csv_file_dir, 'w')\n",
    "submission_csv.write('image_name, tags\\n')\n",
    "\n",
    "for i in tqdm(range(len(test_data_names))):\n",
    "    if test_data_names[i].endswith(\"jpg\"):\n",
    "        line = test_data_names[i] + ','\n",
    "        \n",
    "        for j in range(len(img_prediction[i])):\n",
    "            if img_prediction[i][j] >= 0.95:\n",
    "                line += cathegories[j] + ' '\n",
    "\n",
    "        submission_csv.write(line + '\\n')\n",
    "submission_csv.close()"
   ]
  },
  {
   "cell_type": "code",
   "execution_count": 49,
   "metadata": {
    "collapsed": false
   },
   "outputs": [
    {
     "name": "stderr",
     "output_type": "stream",
     "text": [
      "100%|█████████████████████████████████| 20522/20522 [00:01<00:00, 12496.38it/s]\n"
     ]
    }
   ],
   "source": [
    "csv_file_dir = local_dir + 'submission_add.csv'\n",
    "submission_csv = open(csv_file_dir, 'w')\n",
    "submission_csv.write('image_name, tags\\n')\n",
    "\n",
    "for i in tqdm(range(len(add_test_data_names))):\n",
    "    if add_test_data_names[i].endswith(\"jpg\"):\n",
    "        line = add_test_data_names[i] + ','\n",
    "        \n",
    "        for j in range(len(img_prediction_add[i])):\n",
    "            if img_prediction_add[i][j] >= 0.95:\n",
    "                line += cathegories[j] + ' '\n",
    "\n",
    "        submission_csv.write(line + '\\n')\n",
    "submission_csv.close()"
   ]
  },
  {
   "cell_type": "code",
   "execution_count": null,
   "metadata": {
    "collapsed": true
   },
   "outputs": [],
   "source": []
  }
 ],
 "metadata": {
  "anaconda-cloud": {},
  "kernelspec": {
   "display_name": "Python [conda env:tensorflow]",
   "language": "python",
   "name": "conda-env-tensorflow-py"
  },
  "language_info": {
   "codemirror_mode": {
    "name": "ipython",
    "version": 3
   },
   "file_extension": ".py",
   "mimetype": "text/x-python",
   "name": "python",
   "nbconvert_exporter": "python",
   "pygments_lexer": "ipython3",
   "version": "3.5.3"
  }
 },
 "nbformat": 4,
 "nbformat_minor": 1
}
