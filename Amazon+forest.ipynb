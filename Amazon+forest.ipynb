{
 "cells": [
  {
   "cell_type": "markdown",
   "metadata": {},
   "source": [
    "# Библиотеки"
   ]
  },
  {
   "cell_type": "code",
   "execution_count": 122,
   "metadata": {
    "collapsed": false
   },
   "outputs": [],
   "source": [
    "import numpy as np\n",
    "import pandas as pd\n",
    "from PIL import Image\n",
    "import os\n",
    "from natsort import natsorted, ns\n",
    "\n",
    "import keras\n",
    "from keras.models import Model, Sequential, model_from_json\n",
    "from keras.layers import Input, Convolution2D, MaxPooling2D, Dense, Dropout, Flatten\n",
    "from keras.utils import np_utils\n",
    "\n",
    "import cv2\n",
    "import imutils\n",
    "from tqdm import tqdm\n",
    "\n",
    "from sklearn.metrics import fbeta_score\n",
    "from sklearn.model_selection import train_test_split\n",
    "from sklearn.preprocessing import LabelEncoder\n",
    "\n",
    "from sklearn.ensemble import RandomForestClassifier\n",
    "\n",
    "import seaborn as sns\n",
    "import matplotlib.pyplot as plt\n",
    "%matplotlib inline"
   ]
  },
  {
   "cell_type": "markdown",
   "metadata": {},
   "source": [
    "# Загрузка и обработка данных"
   ]
  },
  {
   "cell_type": "code",
   "execution_count": 37,
   "metadata": {
    "collapsed": false
   },
   "outputs": [],
   "source": [
    "def PathDetermination(user):\n",
    "    if user == 'litvin_home':\n",
    "        core_dir = 'C:\\\\Kaggle\\\\Understanding the Amazon from Space\\\\'\n",
    "    \n",
    "    if user == 'litvin_office':\n",
    "        core_dir = 'D:\\\\Kaggle\\\\Understanding the Amazon from Space\\\\'\n",
    "        train_dir = core_dir + 'train-jpg\\\\'\n",
    "        test_dir = core_dir + 'test-jpg\\\\'\n",
    "        add_test_dir = core_dir + 'test-jpg-additional\\\\'\n",
    "    \n",
    "    if user == 'savina':\n",
    "        core_dir = 'Z:\\\\Kaggle Amazon Rainforest\\\\'\n",
    "        train_dir = ''\n",
    "        test_dir = 'C:\\\\Users\\\\horch\\\\Desktop\\\\Local_data\\\\test-jpg\\\\'\n",
    "        add_test_dir = 'C:\\\\Users\\\\horch\\\\Desktop\\\\Local_data\\\\test-jpg-additional\\\\'\n",
    "    \n",
    "    return core_dir, train_dir, test_dir, add_test_dir"
   ]
  },
  {
   "cell_type": "code",
   "execution_count": 38,
   "metadata": {
    "collapsed": false
   },
   "outputs": [
    {
     "data": {
      "text/html": [
       "<div>\n",
       "<table border=\"1\" class=\"dataframe\">\n",
       "  <thead>\n",
       "    <tr style=\"text-align: right;\">\n",
       "      <th></th>\n",
       "      <th>image_name</th>\n",
       "      <th>tags</th>\n",
       "    </tr>\n",
       "  </thead>\n",
       "  <tbody>\n",
       "    <tr>\n",
       "      <th>0</th>\n",
       "      <td>train_0</td>\n",
       "      <td>haze primary</td>\n",
       "    </tr>\n",
       "    <tr>\n",
       "      <th>1</th>\n",
       "      <td>train_1</td>\n",
       "      <td>agriculture clear primary water</td>\n",
       "    </tr>\n",
       "    <tr>\n",
       "      <th>2</th>\n",
       "      <td>train_2</td>\n",
       "      <td>clear primary</td>\n",
       "    </tr>\n",
       "    <tr>\n",
       "      <th>3</th>\n",
       "      <td>train_3</td>\n",
       "      <td>clear primary</td>\n",
       "    </tr>\n",
       "    <tr>\n",
       "      <th>4</th>\n",
       "      <td>train_4</td>\n",
       "      <td>agriculture clear habitation primary road</td>\n",
       "    </tr>\n",
       "  </tbody>\n",
       "</table>\n",
       "</div>"
      ],
      "text/plain": [
       "  image_name                                       tags\n",
       "0    train_0                               haze primary\n",
       "1    train_1            agriculture clear primary water\n",
       "2    train_2                              clear primary\n",
       "3    train_3                              clear primary\n",
       "4    train_4  agriculture clear habitation primary road"
      ]
     },
     "execution_count": 38,
     "metadata": {},
     "output_type": "execute_result"
    }
   ],
   "source": [
    "core_dir, train_dir, test_dir, add_test_dir = PathDetermination('litvin_office')\n",
    "#core_dir, test_dir, add_test_dir = path_determination('savina')\n",
    "\n",
    "test_data_names = natsorted(os.listdir(test_dir), key=lambda y: y.lower())\n",
    "add_test_data_names = os.listdir(add_test_dir)\n",
    "\n",
    "\n",
    "cathegories = ['agriculture', 'artisinal_mine', 'bare_ground', \n",
    "                      'blooming', 'blow_down', 'clear', 'cloudy', 'conventional_mine', \n",
    "                      'cultivation', 'habitation', 'haze', 'partly_cloudy', 'primary', \n",
    "                      'road', 'selective_logging', 'slash_burn', 'water']\n",
    "\n",
    "train_data = pd.read_csv(core_dir + 'train_v2.csv')\n",
    "train_data.head()"
   ]
  },
  {
   "cell_type": "markdown",
   "metadata": {},
   "source": [
    "# Функции"
   ]
  },
  {
   "cell_type": "code",
   "execution_count": 117,
   "metadata": {
    "collapsed": false
   },
   "outputs": [],
   "source": [
    "def BinimialPrediction(X, treshold = 0.5):\n",
    "    result = np.zeros(X.shape)\n",
    "    \n",
    "    if type(treshold) == int or type(treshold) == float:\n",
    "        for i in range(X.shape[0]):\n",
    "            for j in range(X.shape[1]):\n",
    "                if X[i, j] >= treshold:\n",
    "                    result[i, j] = 1\n",
    "    elif type(treshold) == list:\n",
    "        for i in range(X.shape[0]):\n",
    "            for j in range(X.shape[1]):\n",
    "                if X[i, j] >= treshold[j]:\n",
    "                    result[i, j] = 1\n",
    "    else:\n",
    "        print('treshold type must be int, float or list')\n",
    "    \n",
    "    return(result)\n",
    "\n",
    "def FBettaScore(x_true, x_predicted, betta = 2):\n",
    "    if len(x_true) == len(x_predicted):\n",
    "        tp = 0\n",
    "        fp = 0\n",
    "        fn = 0\n",
    "\n",
    "        for i in range(len(x_predicted)):\n",
    "            if x_true[i] == 1 and x_predicted[i] == 1:\n",
    "                tp += 1\n",
    "            \n",
    "            if x_true[i] == 0 and x_predicted[i] == 1:\n",
    "                fp += 1\n",
    "            \n",
    "            if x_true[i] == 1 and x_predicted[i] == 0:\n",
    "                fn += 1\n",
    "        \n",
    "        if tp == 0 or (tp + fp) == 0 or (tp + fn) == 0:\n",
    "            return(0)\n",
    "        else:\n",
    "            precision = tp/(tp + fp)\n",
    "            recall = tp/(tp + fn)\n",
    "            \n",
    "            return((1 + betta**2)*precision*recall/(betta**2*precision + recall))\n",
    "    else:\n",
    "        print('FBettaScore error! len(x_true) != len(x_predicted)')\n",
    "\n",
    "def AvgFBettaScore(x_true, x_predicted, betta = 2, treshold = 0.5):\n",
    "    result = 0\n",
    "    n = x_true.shape[0]\n",
    "    \n",
    "    x_predicted = BinimialPrediction(x_predicted, treshold)\n",
    "    \n",
    "    for i in range(n):\n",
    "        result += FBettaScore(x_true[i, :], x_predicted[i, :], betta)\n",
    "    \n",
    "    return(result/n)\n",
    "\n",
    "def cathegory_intersections(data):\n",
    "    intersections = np.zeros((len(cathegories), len(cathegories)))\n",
    "    \n",
    "    for i in range(data.shape[0]):\n",
    "        true_ind = []\n",
    "        for j in range(data.shape[1]):\n",
    "            if data[i, j] == 1:\n",
    "                true_ind.append(j)\n",
    "        \n",
    "        for k1 in true_ind:\n",
    "            for k2 in true_ind:\n",
    "                intersections[k1, k2] += 1\n",
    "    \n",
    "    intersections = intersections.astype(int)\n",
    "    df = pd.DataFrame(intersections, index= cathegories, columns= cathegories)\n",
    "    \n",
    "    return(df)"
   ]
  },
  {
   "cell_type": "markdown",
   "metadata": {},
   "source": [
    "# Вычисления"
   ]
  },
  {
   "cell_type": "markdown",
   "metadata": {},
   "source": [
    "формирование обучающей выборки"
   ]
  },
  {
   "cell_type": "code",
   "execution_count": 40,
   "metadata": {
    "collapsed": false
   },
   "outputs": [],
   "source": [
    "def DataPreperation(data_type, img_size = (32, 32), rotation = [0], \n",
    "                    test_img_dir = [test_dir, add_test_dir], shuffle = False):\n",
    "    if data_type == 'train':\n",
    "        X = []\n",
    "        Y = []\n",
    "        \n",
    "        for img_name in tqdm(train_data.image_name.values):\n",
    "    \n",
    "            img = cv2.imread(train_dir + img_name + '.jpg')\n",
    "            img_resized = cv2.resize(img, img_size)\n",
    "            \n",
    "            img_tags = train_data[train_data['image_name'] == img_name]['tags'].values[0].split(' ')\n",
    "            y = np.zeros(len(cathegories))\n",
    "            \n",
    "            for i in range(len(y)):\n",
    "                if cathegories[i] in img_tags:\n",
    "                    y[i] = 1\n",
    "            \n",
    "            for angle in rotation:\n",
    "                img = imutils.rotate(img_resized, angle)\n",
    "                X.append(img)\n",
    "                Y.append(y) \n",
    "        \n",
    "        X = np.array(X, np.float16) / 255.\n",
    "        Y = np.array(Y)\n",
    "        \n",
    "        if shuffle:\n",
    "            ind = np.random.choice(np.arange(X.shape[0]), X.shape[0], replace= False)\n",
    "            X = X[ind]\n",
    "            Y = Y[ind]\n",
    "        \n",
    "        return X, Y\n",
    "    \n",
    "    if data_type == 'test':\n",
    "        X_test = []\n",
    "        X_test_names = []\n",
    "\n",
    "        for img_dir in test_img_dir:\n",
    "            img_dir_names = os.listdir(img_dir)\n",
    "            \n",
    "            for img_name in tqdm(img_dir_names):\n",
    "                if img_name.endswith(\"jpg\"):\n",
    "                    img = cv2.imread(img_dir + img_name)\n",
    "                    img = cv2.resize(img, img_size)\n",
    "                    \n",
    "                    X_test.append(img)\n",
    "                    X_test_names.append(img_name)\n",
    "    \n",
    "        X_test = np.array(X_test, np.float16) / 255.\n",
    "        \n",
    "        return X_test, X_test_names"
   ]
  },
  {
   "cell_type": "code",
   "execution_count": 41,
   "metadata": {
    "collapsed": false
   },
   "outputs": [
    {
     "name": "stderr",
     "output_type": "stream",
     "text": [
      "100%|████████████████████████████████████| 40479/40479 [16:40<00:00, 40.46it/s]\n"
     ]
    }
   ],
   "source": [
    "X, Y = DataPreperation('train', rotation = [0, 90, 180, 270], shuffle= True)"
   ]
  },
  {
   "cell_type": "markdown",
   "metadata": {},
   "source": [
    "разбиение выборки на обучение и тест"
   ]
  },
  {
   "cell_type": "code",
   "execution_count": 42,
   "metadata": {
    "collapsed": true
   },
   "outputs": [],
   "source": [
    "x_train, x_test, y_train, y_test = train_test_split(X, Y, test_size=0.3, random_state=42)"
   ]
  },
  {
   "cell_type": "markdown",
   "metadata": {},
   "source": [
    "пересечения категорий"
   ]
  },
  {
   "cell_type": "code",
   "execution_count": 118,
   "metadata": {
    "collapsed": false
   },
   "outputs": [
    {
     "data": {
      "text/html": [
       "<div>\n",
       "<table border=\"1\" class=\"dataframe\">\n",
       "  <thead>\n",
       "    <tr style=\"text-align: right;\">\n",
       "      <th></th>\n",
       "      <th>agriculture</th>\n",
       "      <th>artisinal_mine</th>\n",
       "      <th>bare_ground</th>\n",
       "      <th>blooming</th>\n",
       "      <th>blow_down</th>\n",
       "      <th>clear</th>\n",
       "      <th>cloudy</th>\n",
       "      <th>conventional_mine</th>\n",
       "      <th>cultivation</th>\n",
       "      <th>habitation</th>\n",
       "      <th>haze</th>\n",
       "      <th>partly_cloudy</th>\n",
       "      <th>primary</th>\n",
       "      <th>road</th>\n",
       "      <th>selective_logging</th>\n",
       "      <th>slash_burn</th>\n",
       "      <th>water</th>\n",
       "    </tr>\n",
       "  </thead>\n",
       "  <tbody>\n",
       "    <tr>\n",
       "      <th>agriculture</th>\n",
       "      <td>49260</td>\n",
       "      <td>152</td>\n",
       "      <td>900</td>\n",
       "      <td>128</td>\n",
       "      <td>88</td>\n",
       "      <td>36600</td>\n",
       "      <td>0</td>\n",
       "      <td>96</td>\n",
       "      <td>13508</td>\n",
       "      <td>10948</td>\n",
       "      <td>2688</td>\n",
       "      <td>9972</td>\n",
       "      <td>47888</td>\n",
       "      <td>24136</td>\n",
       "      <td>260</td>\n",
       "      <td>476</td>\n",
       "      <td>10848</td>\n",
       "    </tr>\n",
       "    <tr>\n",
       "      <th>artisinal_mine</th>\n",
       "      <td>152</td>\n",
       "      <td>1356</td>\n",
       "      <td>160</td>\n",
       "      <td>0</td>\n",
       "      <td>0</td>\n",
       "      <td>1228</td>\n",
       "      <td>0</td>\n",
       "      <td>16</td>\n",
       "      <td>72</td>\n",
       "      <td>116</td>\n",
       "      <td>20</td>\n",
       "      <td>108</td>\n",
       "      <td>1296</td>\n",
       "      <td>440</td>\n",
       "      <td>24</td>\n",
       "      <td>0</td>\n",
       "      <td>1196</td>\n",
       "    </tr>\n",
       "    <tr>\n",
       "      <th>bare_ground</th>\n",
       "      <td>900</td>\n",
       "      <td>160</td>\n",
       "      <td>3448</td>\n",
       "      <td>12</td>\n",
       "      <td>16</td>\n",
       "      <td>2988</td>\n",
       "      <td>0</td>\n",
       "      <td>40</td>\n",
       "      <td>356</td>\n",
       "      <td>652</td>\n",
       "      <td>164</td>\n",
       "      <td>296</td>\n",
       "      <td>2732</td>\n",
       "      <td>1292</td>\n",
       "      <td>52</td>\n",
       "      <td>40</td>\n",
       "      <td>824</td>\n",
       "    </tr>\n",
       "    <tr>\n",
       "      <th>blooming</th>\n",
       "      <td>128</td>\n",
       "      <td>0</td>\n",
       "      <td>12</td>\n",
       "      <td>1328</td>\n",
       "      <td>4</td>\n",
       "      <td>1244</td>\n",
       "      <td>0</td>\n",
       "      <td>0</td>\n",
       "      <td>140</td>\n",
       "      <td>16</td>\n",
       "      <td>16</td>\n",
       "      <td>68</td>\n",
       "      <td>1328</td>\n",
       "      <td>40</td>\n",
       "      <td>28</td>\n",
       "      <td>8</td>\n",
       "      <td>64</td>\n",
       "    </tr>\n",
       "    <tr>\n",
       "      <th>blow_down</th>\n",
       "      <td>88</td>\n",
       "      <td>0</td>\n",
       "      <td>16</td>\n",
       "      <td>4</td>\n",
       "      <td>392</td>\n",
       "      <td>340</td>\n",
       "      <td>0</td>\n",
       "      <td>0</td>\n",
       "      <td>32</td>\n",
       "      <td>12</td>\n",
       "      <td>0</td>\n",
       "      <td>52</td>\n",
       "      <td>392</td>\n",
       "      <td>8</td>\n",
       "      <td>4</td>\n",
       "      <td>8</td>\n",
       "      <td>12</td>\n",
       "    </tr>\n",
       "    <tr>\n",
       "      <th>clear</th>\n",
       "      <td>36600</td>\n",
       "      <td>1228</td>\n",
       "      <td>2988</td>\n",
       "      <td>1244</td>\n",
       "      <td>340</td>\n",
       "      <td>113724</td>\n",
       "      <td>0</td>\n",
       "      <td>280</td>\n",
       "      <td>14108</td>\n",
       "      <td>12360</td>\n",
       "      <td>0</td>\n",
       "      <td>0</td>\n",
       "      <td>110672</td>\n",
       "      <td>25180</td>\n",
       "      <td>1232</td>\n",
       "      <td>692</td>\n",
       "      <td>22008</td>\n",
       "    </tr>\n",
       "    <tr>\n",
       "      <th>cloudy</th>\n",
       "      <td>0</td>\n",
       "      <td>0</td>\n",
       "      <td>0</td>\n",
       "      <td>0</td>\n",
       "      <td>0</td>\n",
       "      <td>0</td>\n",
       "      <td>8356</td>\n",
       "      <td>0</td>\n",
       "      <td>0</td>\n",
       "      <td>0</td>\n",
       "      <td>0</td>\n",
       "      <td>0</td>\n",
       "      <td>0</td>\n",
       "      <td>0</td>\n",
       "      <td>0</td>\n",
       "      <td>0</td>\n",
       "      <td>0</td>\n",
       "    </tr>\n",
       "    <tr>\n",
       "      <th>conventional_mine</th>\n",
       "      <td>96</td>\n",
       "      <td>16</td>\n",
       "      <td>40</td>\n",
       "      <td>0</td>\n",
       "      <td>0</td>\n",
       "      <td>280</td>\n",
       "      <td>0</td>\n",
       "      <td>400</td>\n",
       "      <td>16</td>\n",
       "      <td>144</td>\n",
       "      <td>8</td>\n",
       "      <td>112</td>\n",
       "      <td>376</td>\n",
       "      <td>236</td>\n",
       "      <td>0</td>\n",
       "      <td>0</td>\n",
       "      <td>104</td>\n",
       "    </tr>\n",
       "    <tr>\n",
       "      <th>cultivation</th>\n",
       "      <td>13508</td>\n",
       "      <td>72</td>\n",
       "      <td>356</td>\n",
       "      <td>140</td>\n",
       "      <td>32</td>\n",
       "      <td>14108</td>\n",
       "      <td>0</td>\n",
       "      <td>16</td>\n",
       "      <td>17908</td>\n",
       "      <td>3580</td>\n",
       "      <td>808</td>\n",
       "      <td>2992</td>\n",
       "      <td>17820</td>\n",
       "      <td>5176</td>\n",
       "      <td>232</td>\n",
       "      <td>504</td>\n",
       "      <td>3472</td>\n",
       "    </tr>\n",
       "    <tr>\n",
       "      <th>habitation</th>\n",
       "      <td>10948</td>\n",
       "      <td>116</td>\n",
       "      <td>652</td>\n",
       "      <td>16</td>\n",
       "      <td>12</td>\n",
       "      <td>12360</td>\n",
       "      <td>0</td>\n",
       "      <td>144</td>\n",
       "      <td>3580</td>\n",
       "      <td>14640</td>\n",
       "      <td>516</td>\n",
       "      <td>1764</td>\n",
       "      <td>13876</td>\n",
       "      <td>11144</td>\n",
       "      <td>52</td>\n",
       "      <td>164</td>\n",
       "      <td>3660</td>\n",
       "    </tr>\n",
       "    <tr>\n",
       "      <th>haze</th>\n",
       "      <td>2688</td>\n",
       "      <td>20</td>\n",
       "      <td>164</td>\n",
       "      <td>16</td>\n",
       "      <td>0</td>\n",
       "      <td>0</td>\n",
       "      <td>0</td>\n",
       "      <td>8</td>\n",
       "      <td>808</td>\n",
       "      <td>516</td>\n",
       "      <td>10788</td>\n",
       "      <td>0</td>\n",
       "      <td>10680</td>\n",
       "      <td>1576</td>\n",
       "      <td>20</td>\n",
       "      <td>12</td>\n",
       "      <td>2452</td>\n",
       "    </tr>\n",
       "    <tr>\n",
       "      <th>partly_cloudy</th>\n",
       "      <td>9972</td>\n",
       "      <td>108</td>\n",
       "      <td>296</td>\n",
       "      <td>68</td>\n",
       "      <td>52</td>\n",
       "      <td>0</td>\n",
       "      <td>0</td>\n",
       "      <td>112</td>\n",
       "      <td>2992</td>\n",
       "      <td>1764</td>\n",
       "      <td>0</td>\n",
       "      <td>29044</td>\n",
       "      <td>28700</td>\n",
       "      <td>5528</td>\n",
       "      <td>108</td>\n",
       "      <td>132</td>\n",
       "      <td>5180</td>\n",
       "    </tr>\n",
       "    <tr>\n",
       "      <th>primary</th>\n",
       "      <td>47888</td>\n",
       "      <td>1296</td>\n",
       "      <td>2732</td>\n",
       "      <td>1328</td>\n",
       "      <td>392</td>\n",
       "      <td>110672</td>\n",
       "      <td>0</td>\n",
       "      <td>376</td>\n",
       "      <td>17820</td>\n",
       "      <td>13876</td>\n",
       "      <td>10680</td>\n",
       "      <td>28700</td>\n",
       "      <td>150052</td>\n",
       "      <td>30912</td>\n",
       "      <td>1360</td>\n",
       "      <td>836</td>\n",
       "      <td>28004</td>\n",
       "    </tr>\n",
       "    <tr>\n",
       "      <th>road</th>\n",
       "      <td>24136</td>\n",
       "      <td>440</td>\n",
       "      <td>1292</td>\n",
       "      <td>40</td>\n",
       "      <td>8</td>\n",
       "      <td>25180</td>\n",
       "      <td>0</td>\n",
       "      <td>236</td>\n",
       "      <td>5176</td>\n",
       "      <td>11144</td>\n",
       "      <td>1576</td>\n",
       "      <td>5528</td>\n",
       "      <td>30912</td>\n",
       "      <td>32284</td>\n",
       "      <td>604</td>\n",
       "      <td>144</td>\n",
       "      <td>8500</td>\n",
       "    </tr>\n",
       "    <tr>\n",
       "      <th>selective_logging</th>\n",
       "      <td>260</td>\n",
       "      <td>24</td>\n",
       "      <td>52</td>\n",
       "      <td>28</td>\n",
       "      <td>4</td>\n",
       "      <td>1232</td>\n",
       "      <td>0</td>\n",
       "      <td>0</td>\n",
       "      <td>232</td>\n",
       "      <td>52</td>\n",
       "      <td>20</td>\n",
       "      <td>108</td>\n",
       "      <td>1360</td>\n",
       "      <td>604</td>\n",
       "      <td>1360</td>\n",
       "      <td>8</td>\n",
       "      <td>196</td>\n",
       "    </tr>\n",
       "    <tr>\n",
       "      <th>slash_burn</th>\n",
       "      <td>476</td>\n",
       "      <td>0</td>\n",
       "      <td>40</td>\n",
       "      <td>8</td>\n",
       "      <td>8</td>\n",
       "      <td>692</td>\n",
       "      <td>0</td>\n",
       "      <td>0</td>\n",
       "      <td>504</td>\n",
       "      <td>164</td>\n",
       "      <td>12</td>\n",
       "      <td>132</td>\n",
       "      <td>836</td>\n",
       "      <td>144</td>\n",
       "      <td>8</td>\n",
       "      <td>836</td>\n",
       "      <td>96</td>\n",
       "    </tr>\n",
       "    <tr>\n",
       "      <th>water</th>\n",
       "      <td>10848</td>\n",
       "      <td>1196</td>\n",
       "      <td>824</td>\n",
       "      <td>64</td>\n",
       "      <td>12</td>\n",
       "      <td>22008</td>\n",
       "      <td>0</td>\n",
       "      <td>104</td>\n",
       "      <td>3472</td>\n",
       "      <td>3660</td>\n",
       "      <td>2452</td>\n",
       "      <td>5180</td>\n",
       "      <td>28004</td>\n",
       "      <td>8500</td>\n",
       "      <td>196</td>\n",
       "      <td>96</td>\n",
       "      <td>29644</td>\n",
       "    </tr>\n",
       "  </tbody>\n",
       "</table>\n",
       "</div>"
      ],
      "text/plain": [
       "                   agriculture  artisinal_mine  bare_ground  blooming  \\\n",
       "agriculture              49260             152          900       128   \n",
       "artisinal_mine             152            1356          160         0   \n",
       "bare_ground                900             160         3448        12   \n",
       "blooming                   128               0           12      1328   \n",
       "blow_down                   88               0           16         4   \n",
       "clear                    36600            1228         2988      1244   \n",
       "cloudy                       0               0            0         0   \n",
       "conventional_mine           96              16           40         0   \n",
       "cultivation              13508              72          356       140   \n",
       "habitation               10948             116          652        16   \n",
       "haze                      2688              20          164        16   \n",
       "partly_cloudy             9972             108          296        68   \n",
       "primary                  47888            1296         2732      1328   \n",
       "road                     24136             440         1292        40   \n",
       "selective_logging          260              24           52        28   \n",
       "slash_burn                 476               0           40         8   \n",
       "water                    10848            1196          824        64   \n",
       "\n",
       "                   blow_down   clear  cloudy  conventional_mine  cultivation  \\\n",
       "agriculture               88   36600       0                 96        13508   \n",
       "artisinal_mine             0    1228       0                 16           72   \n",
       "bare_ground               16    2988       0                 40          356   \n",
       "blooming                   4    1244       0                  0          140   \n",
       "blow_down                392     340       0                  0           32   \n",
       "clear                    340  113724       0                280        14108   \n",
       "cloudy                     0       0    8356                  0            0   \n",
       "conventional_mine          0     280       0                400           16   \n",
       "cultivation               32   14108       0                 16        17908   \n",
       "habitation                12   12360       0                144         3580   \n",
       "haze                       0       0       0                  8          808   \n",
       "partly_cloudy             52       0       0                112         2992   \n",
       "primary                  392  110672       0                376        17820   \n",
       "road                       8   25180       0                236         5176   \n",
       "selective_logging          4    1232       0                  0          232   \n",
       "slash_burn                 8     692       0                  0          504   \n",
       "water                     12   22008       0                104         3472   \n",
       "\n",
       "                   habitation   haze  partly_cloudy  primary   road  \\\n",
       "agriculture             10948   2688           9972    47888  24136   \n",
       "artisinal_mine            116     20            108     1296    440   \n",
       "bare_ground               652    164            296     2732   1292   \n",
       "blooming                   16     16             68     1328     40   \n",
       "blow_down                  12      0             52      392      8   \n",
       "clear                   12360      0              0   110672  25180   \n",
       "cloudy                      0      0              0        0      0   \n",
       "conventional_mine         144      8            112      376    236   \n",
       "cultivation              3580    808           2992    17820   5176   \n",
       "habitation              14640    516           1764    13876  11144   \n",
       "haze                      516  10788              0    10680   1576   \n",
       "partly_cloudy            1764      0          29044    28700   5528   \n",
       "primary                 13876  10680          28700   150052  30912   \n",
       "road                    11144   1576           5528    30912  32284   \n",
       "selective_logging          52     20            108     1360    604   \n",
       "slash_burn                164     12            132      836    144   \n",
       "water                    3660   2452           5180    28004   8500   \n",
       "\n",
       "                   selective_logging  slash_burn  water  \n",
       "agriculture                      260         476  10848  \n",
       "artisinal_mine                    24           0   1196  \n",
       "bare_ground                       52          40    824  \n",
       "blooming                          28           8     64  \n",
       "blow_down                          4           8     12  \n",
       "clear                           1232         692  22008  \n",
       "cloudy                             0           0      0  \n",
       "conventional_mine                  0           0    104  \n",
       "cultivation                      232         504   3472  \n",
       "habitation                        52         164   3660  \n",
       "haze                              20          12   2452  \n",
       "partly_cloudy                    108         132   5180  \n",
       "primary                         1360         836  28004  \n",
       "road                             604         144   8500  \n",
       "selective_logging               1360           8    196  \n",
       "slash_burn                         8         836     96  \n",
       "water                            196          96  29644  "
      ]
     },
     "execution_count": 118,
     "metadata": {},
     "output_type": "execute_result"
    }
   ],
   "source": [
    "cathegory_intersections(Y)"
   ]
  },
  {
   "cell_type": "code",
   "execution_count": 127,
   "metadata": {
    "collapsed": false
   },
   "outputs": [
    {
     "data": {
      "text/plain": [
       "<matplotlib.axes._subplots.AxesSubplot at 0x37f91d68>"
      ]
     },
     "execution_count": 127,
     "metadata": {},
     "output_type": "execute_result"
    },
    {
     "data": {
      "image/png": "[encoded data removed]",
      "text/plain": [
       "<matplotlib.figure.Figure at 0x39f2bd30>"
      ]
     },
     "metadata": {},
     "output_type": "display_data"
    }
   ],
   "source": [
    "cathegory_intersection_zeros = np.zeros((len(cathegories), len(cathegories)))\n",
    "inter = cathegory_intersections(Y)\n",
    "\n",
    "for i in range(cathegory_intersection_zeros.shape[0]):\n",
    "    for j in range(cathegory_intersection_zeros.shape[1]):\n",
    "        if inter.values[i, j] != 0:\n",
    "            cathegory_intersection_zeros[i, j] = 1\n",
    "        \n",
    "sns.heatmap(pd.DataFrame(cathegory_intersection_zeros, index= cathegories, columns= cathegories))"
   ]
  },
  {
   "cell_type": "markdown",
   "metadata": {
    "collapsed": false
   },
   "source": [
    "# Настройка и  обучение сети для всех категорий"
   ]
  },
  {
   "cell_type": "code",
   "execution_count": 43,
   "metadata": {
    "collapsed": true
   },
   "outputs": [],
   "source": [
    "batch_size = 128 # in each iteration, we consider 32 training examples at once\n",
    "num_epochs = 150 # we iterate 200 times over the entire training set\n",
    "kernel_size = 3 # we will use 3x3 kernels throughout\n",
    "pool_size = 2 # we will use 2x2 pooling throughout\n",
    "conv_depth_1 = 32 # we will initially have 32 kernels per conv. layer...\n",
    "conv_depth_2 = 64 # ...switching to 64 after the first pooling layer\n",
    "drop_prob_1 = 0.25 # dropout after pooling with probability 0.25\n",
    "drop_prob_2 = 0.5 # dropout in the FC layer with probability 0.5\n",
    "hidden_size = 512 # the FC layer will have 512 neurons"
   ]
  },
  {
   "cell_type": "code",
   "execution_count": 44,
   "metadata": {
    "collapsed": false
   },
   "outputs": [],
   "source": [
    "# загрузка изображений и их приведение к подходящему для обработки виду\n",
    "num_train = X.shape[0]\n",
    "depth = 32 \n",
    "height = 32\n",
    "width = 3 \n",
    "\n",
    "num_classes = len(cathegories)"
   ]
  },
  {
   "cell_type": "code",
   "execution_count": 45,
   "metadata": {
    "collapsed": false
   },
   "outputs": [
    {
     "name": "stderr",
     "output_type": "stream",
     "text": [
      "C:\\Anaconda3\\lib\\site-packages\\ipykernel\\__main__.py:5: UserWarning: Update your `Conv2D` call to the Keras 2 API: `Conv2D(32, (3, 3), padding=\"same\", activation=\"relu\")`\n",
      "C:\\Anaconda3\\lib\\site-packages\\ipykernel\\__main__.py:6: UserWarning: Update your `Conv2D` call to the Keras 2 API: `Conv2D(32, (3, 3), padding=\"same\", activation=\"relu\")`\n",
      "C:\\Anaconda3\\lib\\site-packages\\ipykernel\\__main__.py:12: UserWarning: Update your `Conv2D` call to the Keras 2 API: `Conv2D(64, (3, 3), padding=\"same\", activation=\"relu\")`\n",
      "C:\\Anaconda3\\lib\\site-packages\\ipykernel\\__main__.py:13: UserWarning: Update your `Conv2D` call to the Keras 2 API: `Conv2D(64, (3, 3), padding=\"same\", activation=\"relu\")`\n",
      "C:\\Anaconda3\\lib\\site-packages\\ipykernel\\__main__.py:27: UserWarning: Update your `Model` call to the Keras 2 API: `Model(outputs=Tensor(\"de..., inputs=Tensor(\"in...)`\n",
      "C:\\Anaconda3\\lib\\site-packages\\ipykernel\\__main__.py:35: UserWarning: The `nb_epoch` argument in `fit` has been renamed `epochs`.\n"
     ]
    },
    {
     "name": "stdout",
     "output_type": "stream",
     "text": [
      "Train on 113341 samples, validate on 48575 samples\n",
      "Epoch 1/150\n",
      "113341/113341 [==============================] - 660s - loss: 0.1886 - acc: 0.9264 - val_loss: 0.1486 - val_acc: 0.9412\n",
      "Epoch 2/150\n",
      "113341/113341 [==============================] - 664s - loss: 0.1440 - acc: 0.9436 - val_loss: 0.1310 - val_acc: 0.9474\n",
      "Epoch 3/150\n",
      "113341/113341 [==============================] - 664s - loss: 0.1336 - acc: 0.9476 - val_loss: 0.1279 - val_acc: 0.9491\n",
      "Epoch 4/150\n",
      "113341/113341 [==============================] - 661s - loss: 0.1277 - acc: 0.9500 - val_loss: 0.1221 - val_acc: 0.9516\n",
      "Epoch 5/150\n",
      "113341/113341 [==============================] - 663s - loss: 0.1235 - acc: 0.9517 - val_loss: 0.1208 - val_acc: 0.9523\n",
      "Epoch 6/150\n",
      "113341/113341 [==============================] - 658s - loss: 0.1202 - acc: 0.9529 - val_loss: 0.1186 - val_acc: 0.9533\n",
      "Epoch 7/150\n",
      "113341/113341 [==============================] - 659s - loss: 0.1174 - acc: 0.9542 - val_loss: 0.1106 - val_acc: 0.9564\n",
      "Epoch 8/150\n",
      "113341/113341 [==============================] - 661s - loss: 0.1147 - acc: 0.9551 - val_loss: 0.1112 - val_acc: 0.9562\n",
      "Epoch 9/150\n",
      "113341/113341 [==============================] - 656s - loss: 0.1130 - acc: 0.9559 - val_loss: 0.1132 - val_acc: 0.9557\n",
      "Epoch 10/150\n",
      "113341/113341 [==============================] - 655s - loss: 0.1117 - acc: 0.9561 - val_loss: 0.1116 - val_acc: 0.9555\n",
      "Epoch 11/150\n",
      "113341/113341 [==============================] - 656s - loss: 0.1103 - acc: 0.9567 - val_loss: 0.1089 - val_acc: 0.9575\n",
      "Epoch 12/150\n",
      "113341/113341 [==============================] - 661s - loss: 0.1087 - acc: 0.9573 - val_loss: 0.1077 - val_acc: 0.9577\n",
      "Epoch 13/150\n",
      "113341/113341 [==============================] - 658s - loss: 0.1073 - acc: 0.9578 - val_loss: 0.1080 - val_acc: 0.9576\n",
      "Epoch 14/150\n",
      "113341/113341 [==============================] - 659s - loss: 0.1059 - acc: 0.9582 - val_loss: 0.1067 - val_acc: 0.9580\n",
      "Epoch 15/150\n",
      "113341/113341 [==============================] - 658s - loss: 0.1044 - acc: 0.9587 - val_loss: 0.1073 - val_acc: 0.9578\n",
      "Epoch 16/150\n",
      "113341/113341 [==============================] - 658s - loss: 0.1036 - acc: 0.9590 - val_loss: 0.1075 - val_acc: 0.9581\n",
      "Epoch 17/150\n",
      "113341/113341 [==============================] - 659s - loss: 0.1024 - acc: 0.9595 - val_loss: 0.1062 - val_acc: 0.9583\n",
      "Epoch 18/150\n",
      "113341/113341 [==============================] - 662s - loss: 0.1019 - acc: 0.9596 - val_loss: 0.1063 - val_acc: 0.9583\n",
      "Epoch 19/150\n",
      "113341/113341 [==============================] - 667s - loss: 0.1000 - acc: 0.9602 - val_loss: 0.1070 - val_acc: 0.9585\n",
      "Epoch 20/150\n",
      "113341/113341 [==============================] - 659s - loss: 0.0994 - acc: 0.9606 - val_loss: 0.1075 - val_acc: 0.9584\n",
      "Epoch 21/150\n",
      "113341/113341 [==============================] - 658s - loss: 0.0980 - acc: 0.9609 - val_loss: 0.1072 - val_acc: 0.9583\n",
      "Epoch 22/150\n",
      "113341/113341 [==============================] - 659s - loss: 0.0966 - acc: 0.9615 - val_loss: 0.1085 - val_acc: 0.9580\n",
      "Epoch 23/150\n",
      "113341/113341 [==============================] - 659s - loss: 0.0959 - acc: 0.9618 - val_loss: 0.1088 - val_acc: 0.9576\n",
      "Epoch 24/150\n",
      "113341/113341 [==============================] - 660s - loss: 0.0956 - acc: 0.9619 - val_loss: 0.1084 - val_acc: 0.9580\n",
      "Epoch 25/150\n",
      "113341/113341 [==============================] - 658s - loss: 0.0944 - acc: 0.9624 - val_loss: 0.1085 - val_acc: 0.9585\n",
      "Epoch 26/150\n",
      "113341/113341 [==============================] - 658s - loss: 0.0933 - acc: 0.9627 - val_loss: 0.1104 - val_acc: 0.9575\n",
      "Epoch 27/150\n",
      "113341/113341 [==============================] - 659s - loss: 0.0928 - acc: 0.9630 - val_loss: 0.1098 - val_acc: 0.9581\n",
      "Epoch 28/150\n",
      "113341/113341 [==============================] - 659s - loss: 0.0915 - acc: 0.9634 - val_loss: 0.1080 - val_acc: 0.9589\n",
      "Epoch 29/150\n",
      "113341/113341 [==============================] - 664s - loss: 0.0909 - acc: 0.9636 - val_loss: 0.1110 - val_acc: 0.9578\n",
      "Epoch 30/150\n",
      "113341/113341 [==============================] - 662s - loss: 0.0902 - acc: 0.9639 - val_loss: 0.1147 - val_acc: 0.9569\n",
      "Epoch 31/150\n",
      "113341/113341 [==============================] - 660s - loss: 0.0894 - acc: 0.9643 - val_loss: 0.1097 - val_acc: 0.9583\n",
      "Epoch 32/150\n",
      "113341/113341 [==============================] - 661s - loss: 0.0886 - acc: 0.9644 - val_loss: 0.1106 - val_acc: 0.9582\n",
      "Epoch 33/150\n",
      "113341/113341 [==============================] - 660s - loss: 0.0878 - acc: 0.9649 - val_loss: 0.1114 - val_acc: 0.9579\n",
      "Epoch 34/150\n",
      "113341/113341 [==============================] - 662s - loss: 0.0875 - acc: 0.9650 - val_loss: 0.1135 - val_acc: 0.9578\n",
      "Epoch 35/150\n",
      "113341/113341 [==============================] - 661s - loss: 0.0862 - acc: 0.9654 - val_loss: 0.1160 - val_acc: 0.9567\n",
      "Epoch 36/150\n",
      "113341/113341 [==============================] - 662s - loss: 0.0866 - acc: 0.9654 - val_loss: 0.1134 - val_acc: 0.9574\n",
      "Epoch 37/150\n",
      "113341/113341 [==============================] - 662s - loss: 0.0865 - acc: 0.9652 - val_loss: 0.1136 - val_acc: 0.9581\n",
      "Epoch 38/150\n",
      "113341/113341 [==============================] - 662s - loss: 0.0848 - acc: 0.9660 - val_loss: 0.1129 - val_acc: 0.9578\n",
      "Epoch 39/150\n",
      "113341/113341 [==============================] - 663s - loss: 0.0847 - acc: 0.9659 - val_loss: 0.1127 - val_acc: 0.9581\n",
      "Epoch 40/150\n",
      "113341/113341 [==============================] - 668s - loss: 0.0839 - acc: 0.9663 - val_loss: 0.1147 - val_acc: 0.9579\n",
      "Epoch 41/150\n",
      "113341/113341 [==============================] - 662s - loss: 0.0837 - acc: 0.9663 - val_loss: 0.1140 - val_acc: 0.9581\n",
      "Epoch 42/150\n",
      "113341/113341 [==============================] - 661s - loss: 0.0829 - acc: 0.9668 - val_loss: 0.1148 - val_acc: 0.9579\n",
      "Epoch 43/150\n",
      "113341/113341 [==============================] - 661s - loss: 0.0828 - acc: 0.9666 - val_loss: 0.1156 - val_acc: 0.9579\n",
      "Epoch 44/150\n",
      "113341/113341 [==============================] - 662s - loss: 0.0825 - acc: 0.9668 - val_loss: 0.1150 - val_acc: 0.9574\n",
      "Epoch 45/150\n",
      "113341/113341 [==============================] - 663s - loss: 0.0821 - acc: 0.9670 - val_loss: 0.1129 - val_acc: 0.9584\n",
      "Epoch 46/150\n",
      "113341/113341 [==============================] - 690s - loss: 0.0813 - acc: 0.9673 - val_loss: 0.1165 - val_acc: 0.9576\n",
      "Epoch 47/150\n",
      "113341/113341 [==============================] - 751s - loss: 0.0811 - acc: 0.9675 - val_loss: 0.1154 - val_acc: 0.9578\n",
      "Epoch 48/150\n",
      "113341/113341 [==============================] - 753s - loss: 0.0808 - acc: 0.9675 - val_loss: 0.1149 - val_acc: 0.9577\n",
      "Epoch 49/150\n",
      "113341/113341 [==============================] - 772s - loss: 0.0801 - acc: 0.9677 - val_loss: 0.1174 - val_acc: 0.9575\n",
      "Epoch 50/150\n",
      "113341/113341 [==============================] - 734s - loss: 0.0792 - acc: 0.9682 - val_loss: 0.1152 - val_acc: 0.9580\n",
      "Epoch 51/150\n",
      "113341/113341 [==============================] - 742s - loss: 0.0792 - acc: 0.9682 - val_loss: 0.1171 - val_acc: 0.9579\n",
      "Epoch 52/150\n",
      "113341/113341 [==============================] - 731s - loss: 0.0791 - acc: 0.9681 - val_loss: 0.1182 - val_acc: 0.9575\n",
      "Epoch 53/150\n",
      "113341/113341 [==============================] - 744s - loss: 0.0790 - acc: 0.9682 - val_loss: 0.1180 - val_acc: 0.9584\n",
      "Epoch 54/150\n",
      "113341/113341 [==============================] - 733s - loss: 0.0783 - acc: 0.9686 - val_loss: 0.1183 - val_acc: 0.9579\n",
      "Epoch 55/150\n",
      "113341/113341 [==============================] - 745s - loss: 0.0781 - acc: 0.9684 - val_loss: 0.1171 - val_acc: 0.9578\n",
      "Epoch 56/150\n",
      "113341/113341 [==============================] - 746s - loss: 0.0778 - acc: 0.9688 - val_loss: 0.1171 - val_acc: 0.9578\n",
      "Epoch 57/150\n",
      "113341/113341 [==============================] - 745s - loss: 0.0773 - acc: 0.9689 - val_loss: 0.1189 - val_acc: 0.9577\n",
      "Epoch 58/150\n",
      "113341/113341 [==============================] - 743s - loss: 0.0774 - acc: 0.9690 - val_loss: 0.1184 - val_acc: 0.9576\n",
      "Epoch 59/150\n",
      "113341/113341 [==============================] - 739s - loss: 0.0765 - acc: 0.9693 - val_loss: 0.1173 - val_acc: 0.9581\n",
      "Epoch 60/150\n",
      "113341/113341 [==============================] - 744s - loss: 0.0768 - acc: 0.9690 - val_loss: 0.1198 - val_acc: 0.9573\n",
      "Epoch 61/150\n",
      "113341/113341 [==============================] - 715s - loss: 0.0761 - acc: 0.9693 - val_loss: 0.1205 - val_acc: 0.9578\n",
      "Epoch 62/150\n",
      "113341/113341 [==============================] - 746s - loss: 0.0762 - acc: 0.9693 - val_loss: 0.1190 - val_acc: 0.9576\n",
      "Epoch 63/150\n",
      "113341/113341 [==============================] - 796s - loss: 0.0757 - acc: 0.9695 - val_loss: 0.1204 - val_acc: 0.9574\n",
      "Epoch 64/150\n",
      "113341/113341 [==============================] - 817s - loss: 0.0759 - acc: 0.9696 - val_loss: 0.1200 - val_acc: 0.9576\n",
      "Epoch 65/150\n",
      "113341/113341 [==============================] - 821s - loss: 0.0754 - acc: 0.9696 - val_loss: 0.1191 - val_acc: 0.9573\n",
      "Epoch 66/150\n",
      "113341/113341 [==============================] - 805s - loss: 0.0748 - acc: 0.9699 - val_loss: 0.1206 - val_acc: 0.9575\n",
      "Epoch 67/150\n",
      "113341/113341 [==============================] - 743s - loss: 0.0744 - acc: 0.9701 - val_loss: 0.1201 - val_acc: 0.9577\n",
      "Epoch 68/150\n",
      "113341/113341 [==============================] - 744s - loss: 0.0742 - acc: 0.9702 - val_loss: 0.1211 - val_acc: 0.9571\n",
      "Epoch 69/150\n",
      "113341/113341 [==============================] - 741s - loss: 0.0744 - acc: 0.9702 - val_loss: 0.1223 - val_acc: 0.9571\n",
      "Epoch 70/150\n",
      "113341/113341 [==============================] - 745s - loss: 0.0744 - acc: 0.9702 - val_loss: 0.1205 - val_acc: 0.9575\n",
      "Epoch 71/150\n",
      "113341/113341 [==============================] - 744s - loss: 0.0737 - acc: 0.9702 - val_loss: 0.1229 - val_acc: 0.9573\n",
      "Epoch 72/150\n",
      "113341/113341 [==============================] - 742s - loss: 0.0739 - acc: 0.9703 - val_loss: 0.1207 - val_acc: 0.9575\n",
      "Epoch 73/150\n",
      "113341/113341 [==============================] - 749s - loss: 0.0734 - acc: 0.9707 - val_loss: 0.1199 - val_acc: 0.9575\n",
      "Epoch 74/150\n",
      "113341/113341 [==============================] - 752s - loss: 0.0734 - acc: 0.9705 - val_loss: 0.1235 - val_acc: 0.9569\n",
      "Epoch 75/150\n",
      "113341/113341 [==============================] - 752s - loss: 0.0726 - acc: 0.9708 - val_loss: 0.1199 - val_acc: 0.9576\n",
      "Epoch 76/150\n",
      "113341/113341 [==============================] - 749s - loss: 0.0727 - acc: 0.9708 - val_loss: 0.1215 - val_acc: 0.9573\n",
      "Epoch 77/150\n",
      "113341/113341 [==============================] - 749s - loss: 0.0728 - acc: 0.9709 - val_loss: 0.1213 - val_acc: 0.9580\n",
      "Epoch 78/150\n",
      "113341/113341 [==============================] - 751s - loss: 0.0720 - acc: 0.9710 - val_loss: 0.1203 - val_acc: 0.9575\n",
      "Epoch 79/150\n",
      "113341/113341 [==============================] - 749s - loss: 0.0723 - acc: 0.9709 - val_loss: 0.1228 - val_acc: 0.9571\n",
      "Epoch 80/150\n",
      "113341/113341 [==============================] - 751s - loss: 0.0719 - acc: 0.9711 - val_loss: 0.1237 - val_acc: 0.9577\n",
      "Epoch 81/150\n",
      "113341/113341 [==============================] - 746s - loss: 0.0713 - acc: 0.9713 - val_loss: 0.1218 - val_acc: 0.9575\n",
      "Epoch 82/150\n",
      "113341/113341 [==============================] - 719s - loss: 0.0709 - acc: 0.9716 - val_loss: 0.1228 - val_acc: 0.9574\n",
      "Epoch 83/150\n",
      "113341/113341 [==============================] - 675s - loss: 0.0715 - acc: 0.9712 - val_loss: 0.1216 - val_acc: 0.9573\n",
      "Epoch 84/150\n",
      "113341/113341 [==============================] - 719s - loss: 0.0716 - acc: 0.9712 - val_loss: 0.1218 - val_acc: 0.9575\n",
      "Epoch 85/150\n",
      "113341/113341 [==============================] - 738s - loss: 0.0712 - acc: 0.9714 - val_loss: 0.1228 - val_acc: 0.9575\n",
      "Epoch 86/150\n",
      "113341/113341 [==============================] - 823s - loss: 0.0710 - acc: 0.9715 - val_loss: 0.1221 - val_acc: 0.9559\n",
      "Epoch 87/150\n",
      "113341/113341 [==============================] - 784s - loss: 0.0708 - acc: 0.9716 - val_loss: 0.1228 - val_acc: 0.9573\n",
      "Epoch 88/150\n",
      "113341/113341 [==============================] - 736s - loss: 0.0707 - acc: 0.9718 - val_loss: 0.1205 - val_acc: 0.9576\n",
      "Epoch 89/150\n",
      "113341/113341 [==============================] - 689s - loss: 0.0701 - acc: 0.9720 - val_loss: 0.1220 - val_acc: 0.9567\n",
      "Epoch 90/150\n",
      "113341/113341 [==============================] - 666s - loss: 0.0703 - acc: 0.9718 - val_loss: 0.1242 - val_acc: 0.9569\n",
      "Epoch 91/150\n",
      "113341/113341 [==============================] - 665s - loss: 0.0702 - acc: 0.9720 - val_loss: 0.1297 - val_acc: 0.9568\n",
      "Epoch 92/150\n",
      "113341/113341 [==============================] - 682s - loss: 0.0700 - acc: 0.9719 - val_loss: 0.1239 - val_acc: 0.9572\n",
      "Epoch 93/150\n",
      "113341/113341 [==============================] - 673s - loss: 0.0700 - acc: 0.9720 - val_loss: 0.1257 - val_acc: 0.9576\n",
      "Epoch 94/150\n",
      "113341/113341 [==============================] - 665s - loss: 0.0697 - acc: 0.9722 - val_loss: 0.1267 - val_acc: 0.9573\n",
      "Epoch 95/150\n",
      "113341/113341 [==============================] - 666s - loss: 0.0698 - acc: 0.9720 - val_loss: 0.1264 - val_acc: 0.9575\n",
      "Epoch 96/150\n",
      "113341/113341 [==============================] - 663s - loss: 0.0690 - acc: 0.9724 - val_loss: 0.1241 - val_acc: 0.9577\n",
      "Epoch 97/150\n",
      "113341/113341 [==============================] - 663s - loss: 0.0700 - acc: 0.9719 - val_loss: 0.1233 - val_acc: 0.9574\n",
      "Epoch 98/150\n",
      "113341/113341 [==============================] - 663s - loss: 0.0687 - acc: 0.9726 - val_loss: 0.1221 - val_acc: 0.9573\n",
      "Epoch 99/150\n",
      "113341/113341 [==============================] - 676s - loss: 0.0688 - acc: 0.9724 - val_loss: 0.1283 - val_acc: 0.9568\n",
      "Epoch 100/150\n",
      "113341/113341 [==============================] - 717s - loss: 0.0687 - acc: 0.9726 - val_loss: 0.1244 - val_acc: 0.9571\n",
      "Epoch 101/150\n",
      "113341/113341 [==============================] - 664s - loss: 0.0685 - acc: 0.9725 - val_loss: 0.1242 - val_acc: 0.9572\n",
      "Epoch 102/150\n",
      "113341/113341 [==============================] - 659s - loss: 0.0689 - acc: 0.9725 - val_loss: 0.1227 - val_acc: 0.9570\n",
      "Epoch 103/150\n",
      "113341/113341 [==============================] - 660s - loss: 0.0689 - acc: 0.9723 - val_loss: 0.1268 - val_acc: 0.9571\n",
      "Epoch 104/150\n",
      "113341/113341 [==============================] - 662s - loss: 0.0684 - acc: 0.9726 - val_loss: 0.1254 - val_acc: 0.9568\n",
      "Epoch 105/150\n",
      "113341/113341 [==============================] - 662s - loss: 0.0684 - acc: 0.9727 - val_loss: 0.1262 - val_acc: 0.9572\n",
      "Epoch 106/150\n",
      "113341/113341 [==============================] - 664s - loss: 0.0676 - acc: 0.9729 - val_loss: 0.1267 - val_acc: 0.9570\n",
      "Epoch 107/150\n",
      "113341/113341 [==============================] - 662s - loss: 0.0685 - acc: 0.9726 - val_loss: 0.1265 - val_acc: 0.9575\n",
      "Epoch 108/150\n",
      "113341/113341 [==============================] - 662s - loss: 0.0676 - acc: 0.9729 - val_loss: 0.1239 - val_acc: 0.9576\n",
      "Epoch 109/150\n",
      "113341/113341 [==============================] - 662s - loss: 0.0675 - acc: 0.9730 - val_loss: 0.1248 - val_acc: 0.9574\n",
      "Epoch 110/150\n",
      "113341/113341 [==============================] - 665s - loss: 0.0671 - acc: 0.9732 - val_loss: 0.1292 - val_acc: 0.9569\n",
      "Epoch 111/150\n",
      "113341/113341 [==============================] - 664s - loss: 0.0675 - acc: 0.9729 - val_loss: 0.1261 - val_acc: 0.9571\n",
      "Epoch 112/150\n",
      "113341/113341 [==============================] - 662s - loss: 0.0678 - acc: 0.9730 - val_loss: 0.1275 - val_acc: 0.9574\n",
      "Epoch 113/150\n",
      "113341/113341 [==============================] - 662s - loss: 0.0674 - acc: 0.9730 - val_loss: 0.1262 - val_acc: 0.9570\n",
      "Epoch 114/150\n",
      "113341/113341 [==============================] - 665s - loss: 0.0666 - acc: 0.9734 - val_loss: 0.1257 - val_acc: 0.9569\n",
      "Epoch 115/150\n",
      "113341/113341 [==============================] - 664s - loss: 0.0670 - acc: 0.9730 - val_loss: 0.1256 - val_acc: 0.9577\n",
      "Epoch 116/150\n",
      "113341/113341 [==============================] - 664s - loss: 0.0670 - acc: 0.9733 - val_loss: 0.1334 - val_acc: 0.9566\n",
      "Epoch 117/150\n",
      "113341/113341 [==============================] - 666s - loss: 0.0670 - acc: 0.9733 - val_loss: 0.1255 - val_acc: 0.9575\n",
      "Epoch 118/150\n",
      "113341/113341 [==============================] - 666s - loss: 0.0662 - acc: 0.9734 - val_loss: 0.1258 - val_acc: 0.9571\n",
      "Epoch 119/150\n",
      "113341/113341 [==============================] - 666s - loss: 0.0665 - acc: 0.9735 - val_loss: 0.1274 - val_acc: 0.9574\n",
      "Epoch 120/150\n",
      "113341/113341 [==============================] - 667s - loss: 0.0663 - acc: 0.9735 - val_loss: 0.1296 - val_acc: 0.9567\n",
      "Epoch 121/150\n",
      "113341/113341 [==============================] - 665s - loss: 0.0668 - acc: 0.9733 - val_loss: 0.1282 - val_acc: 0.9567\n",
      "Epoch 122/150\n",
      "113341/113341 [==============================] - 668s - loss: 0.0660 - acc: 0.9737 - val_loss: 0.1312 - val_acc: 0.9570\n",
      "Epoch 123/150\n",
      "113341/113341 [==============================] - 667s - loss: 0.0659 - acc: 0.9737 - val_loss: 0.1273 - val_acc: 0.9575\n",
      "Epoch 124/150\n",
      "113341/113341 [==============================] - 664s - loss: 0.0660 - acc: 0.9736 - val_loss: 0.1252 - val_acc: 0.9570\n",
      "Epoch 125/150\n",
      "113341/113341 [==============================] - 667s - loss: 0.0660 - acc: 0.9737 - val_loss: 0.1255 - val_acc: 0.9565\n",
      "Epoch 126/150\n",
      "113341/113341 [==============================] - 667s - loss: 0.0664 - acc: 0.9736 - val_loss: 0.1265 - val_acc: 0.9575\n",
      "Epoch 127/150\n",
      "113341/113341 [==============================] - 671s - loss: 0.0655 - acc: 0.9738 - val_loss: 0.1303 - val_acc: 0.9575\n",
      "Epoch 128/150\n",
      "113341/113341 [==============================] - 666s - loss: 0.0659 - acc: 0.9736 - val_loss: 0.1268 - val_acc: 0.9571\n",
      "Epoch 129/150\n",
      "113341/113341 [==============================] - 665s - loss: 0.0659 - acc: 0.9737 - val_loss: 0.1280 - val_acc: 0.9572\n",
      "Epoch 130/150\n",
      "113341/113341 [==============================] - 665s - loss: 0.0654 - acc: 0.9739 - val_loss: 0.1257 - val_acc: 0.9571\n",
      "Epoch 131/150\n",
      "113341/113341 [==============================] - 670s - loss: 0.0656 - acc: 0.9739 - val_loss: 0.1271 - val_acc: 0.9573\n",
      "Epoch 132/150\n",
      "113341/113341 [==============================] - 671s - loss: 0.0650 - acc: 0.9740 - val_loss: 0.1310 - val_acc: 0.9572\n",
      "Epoch 133/150\n",
      "113341/113341 [==============================] - 668s - loss: 0.0658 - acc: 0.9738 - val_loss: 0.1298 - val_acc: 0.9578\n",
      "Epoch 134/150\n",
      "113341/113341 [==============================] - 666s - loss: 0.0652 - acc: 0.9740 - val_loss: 0.1298 - val_acc: 0.9571\n",
      "Epoch 135/150\n",
      "113341/113341 [==============================] - 671s - loss: 0.0650 - acc: 0.9741 - val_loss: 0.1267 - val_acc: 0.9574\n",
      "Epoch 136/150\n",
      "113341/113341 [==============================] - 668s - loss: 0.0648 - acc: 0.9740 - val_loss: 0.1269 - val_acc: 0.9575\n",
      "Epoch 137/150\n",
      "113341/113341 [==============================] - 671s - loss: 0.0649 - acc: 0.9740 - val_loss: 0.1263 - val_acc: 0.9570\n",
      "Epoch 138/150\n",
      "113341/113341 [==============================] - 670s - loss: 0.0648 - acc: 0.9741 - val_loss: 0.1287 - val_acc: 0.9573\n",
      "Epoch 139/150\n",
      "113341/113341 [==============================] - 667s - loss: 0.0647 - acc: 0.9741 - val_loss: 0.1284 - val_acc: 0.9574\n",
      "Epoch 140/150\n",
      "113341/113341 [==============================] - 668s - loss: 0.0646 - acc: 0.9742 - val_loss: 0.1300 - val_acc: 0.9568\n",
      "Epoch 141/150\n",
      "113341/113341 [==============================] - 666s - loss: 0.0643 - acc: 0.9743 - val_loss: 0.1286 - val_acc: 0.9574\n",
      "Epoch 142/150\n",
      "113341/113341 [==============================] - 668s - loss: 0.0647 - acc: 0.9741 - val_loss: 0.1282 - val_acc: 0.9575\n",
      "Epoch 143/150\n",
      "113341/113341 [==============================] - 669s - loss: 0.0646 - acc: 0.9742 - val_loss: 0.1284 - val_acc: 0.9570\n",
      "Epoch 144/150\n",
      "113341/113341 [==============================] - 667s - loss: 0.0641 - acc: 0.9743 - val_loss: 0.1295 - val_acc: 0.9573\n",
      "Epoch 145/150\n",
      "113341/113341 [==============================] - 666s - loss: 0.0641 - acc: 0.9745 - val_loss: 0.1251 - val_acc: 0.9571\n",
      "Epoch 146/150\n",
      "113341/113341 [==============================] - 668s - loss: 0.0645 - acc: 0.9744 - val_loss: 0.1330 - val_acc: 0.9571\n",
      "Epoch 147/150\n",
      "113341/113341 [==============================] - 668s - loss: 0.0641 - acc: 0.9744 - val_loss: 0.1298 - val_acc: 0.9570\n",
      "Epoch 148/150\n",
      "113341/113341 [==============================] - 668s - loss: 0.0638 - acc: 0.9745 - val_loss: 0.1326 - val_acc: 0.9564\n",
      "Epoch 149/150\n",
      "113341/113341 [==============================] - 669s - loss: 0.0638 - acc: 0.9745 - val_loss: 0.1287 - val_acc: 0.9570\n",
      "Epoch 150/150\n",
      "113341/113341 [==============================] - 669s - loss: 0.0641 - acc: 0.9744 - val_loss: 0.1294 - val_acc: 0.9571\n"
     ]
    },
    {
     "data": {
      "text/plain": [
       "<keras.callbacks.History at 0x1dbb5f60>"
      ]
     },
     "execution_count": 45,
     "metadata": {},
     "output_type": "execute_result"
    }
   ],
   "source": [
    "inp = Input(shape=(depth, height, width)) # N.B. depth goes first in Keras!\n",
    "\n",
    "# Conv [32] -> Conv [32] -> Pool (with dropout on the pooling layer)\n",
    "\n",
    "conv_1 = Convolution2D(conv_depth_1, kernel_size, kernel_size, border_mode='same', activation='relu')(inp)\n",
    "conv_2 = Convolution2D(conv_depth_1, kernel_size, kernel_size, border_mode='same', activation='relu')(conv_1)\n",
    "pool_1 = MaxPooling2D(pool_size=(pool_size, pool_size))(conv_2)\n",
    "drop_1 = Dropout(drop_prob_1)(pool_1)\n",
    "\n",
    "# Conv [64] -> Conv [64] -> Pool (with dropout on the pooling layer)\n",
    "\n",
    "conv_3 = Convolution2D(conv_depth_2, kernel_size, kernel_size, border_mode='same', activation='relu')(drop_1)\n",
    "conv_4 = Convolution2D(conv_depth_2, kernel_size, kernel_size, border_mode='same', activation='relu')(conv_3)\n",
    "pool_2 = MaxPooling2D(pool_size=(pool_size, pool_size))(conv_4)\n",
    "drop_2 = Dropout(drop_prob_1)(pool_2)\n",
    "\n",
    "# Now flatten to 1D, apply FC -> ReLU (with dropout) -> softmax\n",
    "\n",
    "flat = Flatten()(drop_2)\n",
    "\n",
    "hidden = Dense(hidden_size, activation='relu')(flat)\n",
    "\n",
    "drop_3 = Dropout(drop_prob_2)(hidden)\n",
    "\n",
    "out = Dense(num_classes, activation='sigmoid')(drop_3)\n",
    "\n",
    "model = Model(input=inp, output=out) # To define a model, just specify its input and output layers\n",
    "\n",
    "model.compile(loss='binary_crossentropy', # using the cross-entropy loss function\n",
    "              optimizer='adam', # using the Adam optimiser\n",
    "              metrics=['accuracy']) # reporting the accuracy\n",
    "\n",
    "model.fit(x_train, y_train, # Train the model using the training set...\n",
    "          batch_size=batch_size, nb_epoch=num_epochs,\n",
    "          verbose=1, validation_data = (x_test, y_test))"
   ]
  },
  {
   "cell_type": "code",
   "execution_count": 46,
   "metadata": {
    "collapsed": false
   },
   "outputs": [],
   "source": [
    "# Генерируем описание модели в формате json\n",
    "model_json = model.to_json()\n",
    "# Записываем модель в файл\n",
    "json_file = open(\"test_model_50e rotate.json\", \"w\")\n",
    "json_file.write(model_json)\n",
    "json_file.close()\n",
    "\n",
    "model.save_weights(\"test_model_50e rotate.h5\")"
   ]
  },
  {
   "cell_type": "markdown",
   "metadata": {},
   "source": [
    "## Делаем предсказание"
   ]
  },
  {
   "cell_type": "code",
   "execution_count": 47,
   "metadata": {
    "collapsed": false
   },
   "outputs": [
    {
     "name": "stdout",
     "output_type": "stream",
     "text": [
      "Loaded model from disk\n"
     ]
    }
   ],
   "source": [
    "# load json and create model\n",
    "json_file = open('test_model_50e rotate.json', 'r')\n",
    "loaded_model_json = json_file.read()\n",
    "json_file.close()\n",
    "loaded_model = model_from_json(loaded_model_json)\n",
    "\n",
    "# load weights into new model\n",
    "loaded_model.load_weights('test_model_50e rotate.h5')\n",
    "print(\"Loaded model from disk\")\n",
    " \n",
    "# evaluate loaded model on test data\n",
    "loaded_model.compile(loss='binary_crossentropy', optimizer='adam', metrics=['accuracy'])"
   ]
  },
  {
   "cell_type": "markdown",
   "metadata": {},
   "source": [
    "функция для формирования тестовой выборки"
   ]
  },
  {
   "cell_type": "code",
   "execution_count": 48,
   "metadata": {
    "collapsed": false
   },
   "outputs": [
    {
     "name": "stderr",
     "output_type": "stream",
     "text": [
      "100%|████████████████████████████████████| 40669/40669 [09:41<00:00, 69.90it/s]\n",
      "100%|████████████████████████████████████| 20522/20522 [03:57<00:00, 86.39it/s]\n"
     ]
    }
   ],
   "source": [
    "X_test, X_test_names = DataPreperation('test')"
   ]
  },
  {
   "cell_type": "code",
   "execution_count": 49,
   "metadata": {
    "collapsed": true
   },
   "outputs": [],
   "source": [
    "def MakePrediction(data, model, img_names = X_test_names, treshold = 0.4, file_name = 'prediction.csv'):\n",
    "    if type(treshold) == float:\n",
    "        prediction = model.predict(data)\n",
    "        f = open(file_name, 'w')\n",
    "        f.write('image_name,tags\\n')\n",
    "        \n",
    "        for i in tqdm(range(prediction.shape[0])):\n",
    "            line = img_names[i][0:-4] + ','\n",
    "            for j in range(prediction.shape[1]):\n",
    "                if prediction[i, j] >= treshold:\n",
    "                    line += cathegories[j] + ' '\n",
    "            \n",
    "            f.write(line + '\\n')\n",
    "        \n",
    "        f.close()\n",
    "    \n",
    "    elif type(treshold) == list:\n",
    "        if len(treshold) == len(cathegories):\n",
    "            prediction = model.predict(data)\n",
    "            f = open(file_name, 'w')\n",
    "            f.write('image_name,tags\\n')\n",
    "\n",
    "            for i in tqdm(range(prediction.shape[0])):\n",
    "                line = img_names[i][0:-4] + ','\n",
    "                for j in range(prediction.shape[1]):\n",
    "                    if prediction[i, j] >= treshold[j]:\n",
    "                        line += cathegories[j] + ' '\n",
    "                \n",
    "                f.write(line + '\\n')\n",
    "            \n",
    "            f.close()\n",
    "        \n",
    "        else:\n",
    "            print('wrong treshold length. must be %d' %data.shape[1])\n",
    "    \n",
    "    else:\n",
    "        print('treshold type must be float or list')"
   ]
  },
  {
   "cell_type": "code",
   "execution_count": 109,
   "metadata": {
    "collapsed": true
   },
   "outputs": [],
   "source": [
    "x_test_prediction = loaded_model.predict(x_test)"
   ]
  },
  {
   "cell_type": "code",
   "execution_count": 114,
   "metadata": {
    "collapsed": false
   },
   "outputs": [],
   "source": [
    "np.savetxt('x_test_prediction.csv', x_test_prediction, delimiter=',')\n",
    "np.savetxt('x_test_real.csv', y_test, delimiter=',')"
   ]
  },
  {
   "cell_type": "code",
   "execution_count": null,
   "metadata": {
    "collapsed": false
   },
   "outputs": [],
   "source": []
  },
  {
   "cell_type": "code",
   "execution_count": 50,
   "metadata": {
    "collapsed": false
   },
   "outputs": [
    {
     "name": "stdout",
     "output_type": "stream",
     "text": [
      "7 0.9000874635200844 [0.4, 0.16, 0.19, 0.22, 0.18, 0.33, 0.14, 0.14000000000000001, 0.28, 0.25, 0.24, 0.28, 0.27, 0.34, 0.25, 0.14, 0.2]\n",
      "5 0.9011172139227087 [0.4, 0.16, 0.19, 0.22, 0.18, 0.089999999999999997, 0.14, 0.14000000000000001, 0.28, 0.25, 0.24, 0.28, 0.27, 0.34, 0.25, 0.14, 0.2]\n",
      "1 0.901144562387377 [0.4, 0.059999999999999998, 0.19, 0.22, 0.18, 0.089999999999999997, 0.14, 0.14000000000000001, 0.28, 0.25, 0.24, 0.28, 0.27, 0.34, 0.25, 0.14, 0.2]\n",
      "3 0.9011485208010113 [0.4, 0.059999999999999998, 0.19, 0.32000000000000001, 0.18, 0.089999999999999997, 0.14, 0.14000000000000001, 0.28, 0.25, 0.24, 0.28, 0.27, 0.34, 0.25, 0.14, 0.2]\n",
      "9 0.901601188940217 [0.4, 0.059999999999999998, 0.19, 0.32000000000000001, 0.18, 0.089999999999999997, 0.14, 0.14000000000000001, 0.28, 0.12, 0.24, 0.28, 0.27, 0.34, 0.25, 0.14, 0.2]\n",
      "2 0.9016386750795555 [0.4, 0.059999999999999998, 0.20999999999999999, 0.32000000000000001, 0.18, 0.089999999999999997, 0.14, 0.14000000000000001, 0.28, 0.12, 0.24, 0.28, 0.27, 0.34, 0.25, 0.14, 0.2]\n",
      "11 0.902766057099518 [0.4, 0.059999999999999998, 0.20999999999999999, 0.32000000000000001, 0.18, 0.089999999999999997, 0.14, 0.14000000000000001, 0.28, 0.12, 0.24, 0.040000000000000001, 0.27, 0.34, 0.25, 0.14, 0.2]\n",
      "13 0.9037486919503214 [0.4, 0.059999999999999998, 0.20999999999999999, 0.32000000000000001, 0.18, 0.089999999999999997, 0.14, 0.14000000000000001, 0.28, 0.12, 0.24, 0.040000000000000001, 0.27, 0.13, 0.25, 0.14, 0.2]\n",
      "0 0.9051616735648806 [0.16, 0.059999999999999998, 0.20999999999999999, 0.32000000000000001, 0.18, 0.089999999999999997, 0.14, 0.14000000000000001, 0.28, 0.12, 0.24, 0.040000000000000001, 0.27, 0.13, 0.25, 0.14, 0.2]\n",
      "6 0.9052805182439626 [0.16, 0.059999999999999998, 0.20999999999999999, 0.32000000000000001, 0.18, 0.089999999999999997, 0.080000000000000002, 0.14000000000000001, 0.28, 0.12, 0.24, 0.040000000000000001, 0.27, 0.13, 0.25, 0.14, 0.2]\n",
      "15 0.9053494153169824 [0.16, 0.059999999999999998, 0.20999999999999999, 0.32000000000000001, 0.18, 0.089999999999999997, 0.080000000000000002, 0.14000000000000001, 0.28, 0.12, 0.24, 0.040000000000000001, 0.27, 0.13, 0.25, 0.89000000000000001, 0.2]\n",
      "4 0.9053666533358984 [0.16, 0.059999999999999998, 0.20999999999999999, 0.32000000000000001, 0.12, 0.089999999999999997, 0.080000000000000002, 0.14000000000000001, 0.28, 0.12, 0.24, 0.040000000000000001, 0.27, 0.13, 0.25, 0.89000000000000001, 0.2]\n",
      "16 0.9057904515619364 [0.16, 0.059999999999999998, 0.20999999999999999, 0.32000000000000001, 0.12, 0.089999999999999997, 0.080000000000000002, 0.14000000000000001, 0.28, 0.12, 0.24, 0.040000000000000001, 0.27, 0.13, 0.25, 0.89000000000000001, 0.12]\n",
      "8 0.9061755822003299 [0.16, 0.059999999999999998, 0.20999999999999999, 0.32000000000000001, 0.12, 0.089999999999999997, 0.080000000000000002, 0.14000000000000001, 0.19, 0.12, 0.24, 0.040000000000000001, 0.27, 0.13, 0.25, 0.89000000000000001, 0.12]\n",
      "14 0.9061776857157547 [0.16, 0.059999999999999998, 0.20999999999999999, 0.32000000000000001, 0.12, 0.089999999999999997, 0.080000000000000002, 0.14000000000000001, 0.19, 0.12, 0.24, 0.040000000000000001, 0.27, 0.13, 0.20000000000000001, 0.89000000000000001, 0.12]\n",
      "10 0.9063750202868099 [0.16, 0.059999999999999998, 0.20999999999999999, 0.32000000000000001, 0.12, 0.089999999999999997, 0.080000000000000002, 0.14000000000000001, 0.19, 0.12, 0.14000000000000001, 0.040000000000000001, 0.27, 0.13, 0.20000000000000001, 0.89000000000000001, 0.12]\n",
      "12 0.9065800401719656 [0.16, 0.059999999999999998, 0.20999999999999999, 0.32000000000000001, 0.12, 0.089999999999999997, 0.080000000000000002, 0.14000000000000001, 0.19, 0.12, 0.14000000000000001, 0.040000000000000001, 0.19, 0.13, 0.20000000000000001, 0.89000000000000001, 0.12]\n"
     ]
    }
   ],
   "source": [
    "#0.9067175893205208\n",
    "#initial_treshold = [0.21, 0.05, 0.16, 0.53, 0.18, 0.13, 0.03, 0.11, 0.27, 0.15, 0.2, 0.13, 0.25, 0.13, 0.22, 0.83, 0.19]\n",
    "\n",
    "#0.95018400851129\n",
    "#initial_treshold = [0.4, 0.16, 0.19, 0.22, 0.18, 0.33, 0.14, 0.25, 0.28, 0.25, 0.24, 0.28, 0.27, 0.34, 0.25, 0.14, 0.2]\n",
    "\n",
    "#0.949632296362803 all\n",
    "#initial_treshold = [0.38, 0.25, 0.19, 0.21, 0.19, 0.33, 0.14, 0.29, 0.26, 0.26, 0.19, 0.28, 0.23, 0.33, 0.22, 0.15, 0.21]\n",
    "\n",
    "initial_treshold = [0.4, 0.16, 0.19, 0.22, 0.18, 0.33, 0.14, 0.25, 0.28, 0.25, 0.24, 0.28, 0.27, 0.34, 0.25, 0.14, 0.2]\n",
    "\n",
    "\n",
    "def OptimalTreshold(x_predicted, x_real, current_treshold = initial_treshold):\n",
    "\n",
    "    current_best_result = AvgFBettaScore(x_real, x_predicted, treshold = current_treshold) \n",
    "\n",
    "    random_sequence = np.random.choice(range(len(current_treshold)), len(current_treshold), replace= False)\n",
    "\n",
    "    for k in random_sequence:\n",
    "        for i in np.arange(0, 1.01, 0.01):\n",
    "            tr = current_treshold.copy()\n",
    "            tr[k] = i\n",
    "\n",
    "            current_result = AvgFBettaScore(x_real, x_predicted, treshold = tr)\n",
    "\n",
    "            if current_result > current_best_result:\n",
    "                current_best_result = current_result\n",
    "                current_treshold = tr\n",
    "\n",
    "        print(k, current_best_result, current_treshold)\n",
    "    \n",
    "    return(current_treshold, current_best_result)\n",
    "\n",
    "x_test_predicted = loaded_model.predict(x_test)\n",
    "optimat_treshold, optimal_treshold_result = OptimalTreshold(x_test_predicted, y_test)"
   ]
  },
  {
   "cell_type": "code",
   "execution_count": 55,
   "metadata": {
    "collapsed": false
   },
   "outputs": [
    {
     "name": "stderr",
     "output_type": "stream",
     "text": [
      "100%|█████████████████████████████████| 61191/61191 [00:01<00:00, 33455.99it/s]\n"
     ]
    }
   ],
   "source": [
    "MakePrediction(X_test, loaded_model, treshold = optimat_treshold, file_name = 'prediction opt_tres0954 rot.csv')"
   ]
  },
  {
   "cell_type": "code",
   "execution_count": null,
   "metadata": {
    "collapsed": false
   },
   "outputs": [],
   "source": []
  },
  {
   "cell_type": "code",
   "execution_count": 52,
   "metadata": {
    "collapsed": false
   },
   "outputs": [
    {
     "name": "stdout",
     "output_type": "stream",
     "text": [
      "16 0.47347321382006025 [0.4, 0.16, 0.19, 0.22, 0.18, 0.33, 0.14, 0.25, 0.28, 0.25, 0.24, 0.28, 0.27, 0.34, 0.25, 0.14, 0.2]\n",
      "10 0.47347321382006025 [0.4, 0.16, 0.19, 0.22, 0.18, 0.33, 0.14, 0.25, 0.28, 0.25, 0.24, 0.28, 0.27, 0.34, 0.25, 0.14, 0.2]\n",
      "1 0.47347321382006025 [0.4, 0.16, 0.19, 0.22, 0.18, 0.33, 0.14, 0.25, 0.28, 0.25, 0.24, 0.28, 0.27, 0.34, 0.25, 0.14, 0.2]\n",
      "9 0.47347321382006025 [0.4, 0.16, 0.19, 0.22, 0.18, 0.33, 0.14, 0.25, 0.28, 0.25, 0.24, 0.28, 0.27, 0.34, 0.25, 0.14, 0.2]\n",
      "4 0.47347321382006025 [0.4, 0.16, 0.19, 0.22, 0.18, 0.33, 0.14, 0.25, 0.28, 0.25, 0.24, 0.28, 0.27, 0.34, 0.25, 0.14, 0.2]\n",
      "8 0.47347321382006025 [0.4, 0.16, 0.19, 0.22, 0.18, 0.33, 0.14, 0.25, 0.28, 0.25, 0.24, 0.28, 0.27, 0.34, 0.25, 0.14, 0.2]\n",
      "14 0.47347321382006025 [0.4, 0.16, 0.19, 0.22, 0.18, 0.33, 0.14, 0.25, 0.28, 0.25, 0.24, 0.28, 0.27, 0.34, 0.25, 0.14, 0.2]\n",
      "11 0.47349272839689155 [0.4, 0.16, 0.19, 0.22, 0.18, 0.33, 0.14, 0.25, 0.28, 0.25, 0.24, 0.0, 0.27, 0.34, 0.25, 0.14, 0.2]\n",
      "7 0.47349272839689155 [0.4, 0.16, 0.19, 0.22, 0.18, 0.33, 0.14, 0.25, 0.28, 0.25, 0.24, 0.0, 0.27, 0.34, 0.25, 0.14, 0.2]\n",
      "3 0.47349272839689155 [0.4, 0.16, 0.19, 0.22, 0.18, 0.33, 0.14, 0.25, 0.28, 0.25, 0.24, 0.0, 0.27, 0.34, 0.25, 0.14, 0.2]\n",
      "5 0.4735387055976899 [0.4, 0.16, 0.19, 0.22, 0.18, 0.0, 0.14, 0.25, 0.28, 0.25, 0.24, 0.0, 0.27, 0.34, 0.25, 0.14, 0.2]\n",
      "13 0.4735387055976899 [0.4, 0.16, 0.19, 0.22, 0.18, 0.0, 0.14, 0.25, 0.28, 0.25, 0.24, 0.0, 0.27, 0.34, 0.25, 0.14, 0.2]\n",
      "12 0.47355380258899676 [0.4, 0.16, 0.19, 0.22, 0.18, 0.0, 0.14, 0.25, 0.28, 0.25, 0.24, 0.0, 0.0, 0.34, 0.25, 0.14, 0.2]\n",
      "2 0.47355380258899676 [0.4, 0.16, 0.19, 0.22, 0.18, 0.0, 0.14, 0.25, 0.28, 0.25, 0.24, 0.0, 0.0, 0.34, 0.25, 0.14, 0.2]\n",
      "15 0.47355380258899676 [0.4, 0.16, 0.19, 0.22, 0.18, 0.0, 0.14, 0.25, 0.28, 0.25, 0.24, 0.0, 0.0, 0.34, 0.25, 0.14, 0.2]\n",
      "6 0.47355380258899676 [0.4, 0.16, 0.19, 0.22, 0.18, 0.0, 0.14, 0.25, 0.28, 0.25, 0.24, 0.0, 0.0, 0.34, 0.25, 0.14, 0.2]\n",
      "0 0.47355997863089505 [0.0, 0.16, 0.19, 0.22, 0.18, 0.0, 0.14, 0.25, 0.28, 0.25, 0.24, 0.0, 0.0, 0.34, 0.25, 0.14, 0.2]\n"
     ]
    }
   ],
   "source": [
    "x_test_predicted = loaded_model.predict(X)\n",
    "optimat_treshold, optimal_treshold_result = OptimalTreshold(Y, x_test_predicted)"
   ]
  },
  {
   "cell_type": "code",
   "execution_count": 54,
   "metadata": {
    "collapsed": false
   },
   "outputs": [
    {
     "data": {
      "text/plain": [
       "0.9546428761278668"
      ]
     },
     "execution_count": 54,
     "metadata": {},
     "output_type": "execute_result"
    }
   ],
   "source": [
    "optimat_treshold = [0.38, 0.25, 0.19, 0.21, 0.19, 0.33, 0.14, 0.29, 0.26, 0.26, 0.19, 0.28, 0.23, 0.33, 0.22, 0.15, 0.21]\n",
    "AvgFBettaScore(Y, x_test_predicted, treshold = optimat_treshold) "
   ]
  },
  {
   "cell_type": "code",
   "execution_count": null,
   "metadata": {
    "collapsed": true
   },
   "outputs": [],
   "source": []
  },
  {
   "cell_type": "code",
   "execution_count": 56,
   "metadata": {
    "collapsed": true
   },
   "outputs": [],
   "source": [
    "cnn_output = loaded_model.predict(x_train)"
   ]
  },
  {
   "cell_type": "code",
   "execution_count": 80,
   "metadata": {
    "collapsed": false
   },
   "outputs": [],
   "source": [
    "def RandomForrestTresholds(x, y):\n",
    "    rf_models = []\n",
    "    \n",
    "    for i in tqdm(range(x.shape[1])):\n",
    "        model = RandomForestClassifier(n_estimators= 50)\n",
    "        model.fit(x, y[:, i])\n",
    "        \n",
    "        rf_models.append(model)\n",
    "    \n",
    "    return(rf_models)"
   ]
  },
  {
   "cell_type": "code",
   "execution_count": 81,
   "metadata": {
    "collapsed": false
   },
   "outputs": [
    {
     "name": "stderr",
     "output_type": "stream",
     "text": [
      "\n",
      "\n",
      "100%|██████████████████████████████████████████| 17/17 [03:28<00:00, 13.43s/it]\n"
     ]
    }
   ],
   "source": [
    "random_forrest_models = RandomForrestTresholds(cnn_output, y_train)"
   ]
  },
  {
   "cell_type": "code",
   "execution_count": 97,
   "metadata": {
    "collapsed": true
   },
   "outputs": [],
   "source": [
    "x_cnn_out_test = loaded_model.predict(x_test)\n",
    "x_rf_predictid = np.zeros(x_cnn_out_test.shape)"
   ]
  },
  {
   "cell_type": "code",
   "execution_count": 101,
   "metadata": {
    "collapsed": false
   },
   "outputs": [
    {
     "name": "stderr",
     "output_type": "stream",
     "text": [
      "\n",
      "  0%|                                                   | 0/17 [00:00<?, ?it/s]\n",
      "  6%|██▌                                        | 1/17 [00:00<00:05,  3.17it/s]\n",
      " 12%|█████                                      | 2/17 [00:00<00:04,  3.75it/s]\n",
      " 18%|███████▌                                   | 3/17 [00:00<00:03,  4.03it/s]\n",
      " 24%|██████████                                 | 4/17 [00:00<00:03,  4.22it/s]\n",
      " 29%|████████████▋                              | 5/17 [00:01<00:02,  4.55it/s]\n",
      " 35%|███████████████▏                           | 6/17 [00:01<00:02,  4.50it/s]\n",
      " 41%|█████████████████▋                         | 7/17 [00:01<00:02,  4.80it/s]\n",
      " 47%|████████████████████▏                      | 8/17 [00:01<00:01,  5.24it/s]\n",
      " 53%|██████████████████████▊                    | 9/17 [00:01<00:01,  4.73it/s]\n",
      " 59%|████████████████████████▋                 | 10/17 [00:02<00:01,  4.37it/s]\n",
      " 65%|███████████████████████████▏              | 11/17 [00:02<00:01,  4.45it/s]\n",
      " 71%|█████████████████████████████▋            | 12/17 [00:02<00:01,  4.68it/s]\n",
      " 76%|████████████████████████████████          | 13/17 [00:02<00:00,  4.63it/s]\n",
      " 82%|██████████████████████████████████▌       | 14/17 [00:03<00:00,  4.12it/s]\n",
      " 88%|█████████████████████████████████████     | 15/17 [00:03<00:00,  4.42it/s]\n",
      " 94%|███████████████████████████████████████▌  | 16/17 [00:03<00:00,  4.79it/s]\n",
      "100%|██████████████████████████████████████████| 17/17 [00:03<00:00,  4.04it/s]\n"
     ]
    },
    {
     "data": {
      "text/plain": [
       "array([[ 0.  ,  0.  ,  0.  , ...,  0.  ,  0.  ,  0.04],\n",
       "       [ 0.  ,  0.  ,  0.  , ...,  0.  ,  0.  ,  0.  ],\n",
       "       [ 0.  ,  0.  ,  0.  , ...,  0.  ,  0.  ,  0.06],\n",
       "       ..., \n",
       "       [ 0.98,  0.  ,  0.  , ...,  0.  ,  0.  ,  0.86],\n",
       "       [ 0.  ,  0.  ,  0.  , ...,  0.  ,  0.  ,  0.02],\n",
       "       [ 0.  ,  0.  ,  0.  , ...,  0.  ,  0.  ,  0.14]])"
      ]
     },
     "execution_count": 101,
     "metadata": {},
     "output_type": "execute_result"
    }
   ],
   "source": [
    "for i in tqdm(range(len(random_forrest_models))):\n",
    "    x_rf_predictid[:, i] = random_forrest_models[i].predict_proba(x_cnn_out_test)[:, 1]\n",
    "\n",
    "x_rf_predictid"
   ]
  },
  {
   "cell_type": "code",
   "execution_count": 104,
   "metadata": {
    "collapsed": false
   },
   "outputs": [
    {
     "data": {
      "text/plain": [
       "0.8957030072180471"
      ]
     },
     "execution_count": 104,
     "metadata": {},
     "output_type": "execute_result"
    }
   ],
   "source": [
    "AvgFBettaScore(y_test, x_rf_predictid, betta = 2, treshold = 0.2)"
   ]
  },
  {
   "cell_type": "code",
   "execution_count": null,
   "metadata": {
    "collapsed": true
   },
   "outputs": [],
   "source": []
  },
  {
   "cell_type": "code",
   "execution_count": 107,
   "metadata": {
    "collapsed": false
   },
   "outputs": [
    {
     "data": {
      "text/plain": [
       "(61191, 17)"
      ]
     },
     "execution_count": 107,
     "metadata": {},
     "output_type": "execute_result"
    }
   ],
   "source": [
    "X_cnn_out = loaded_model.predict(X_test)\n",
    "X_predictid = np.zeros(X_cnn_out.shape)\n",
    "X_predictid.shape"
   ]
  },
  {
   "cell_type": "code",
   "execution_count": null,
   "metadata": {
    "collapsed": true
   },
   "outputs": [],
   "source": [
    "for i in tqdm(range(len(random_forrest_models))):\n",
    "    X_predictid[:, i] = random_forrest_models[i].predict_proba(X_cnn_out)[:, 1]\n",
    "\n",
    "X_predictid"
   ]
  },
  {
   "cell_type": "code",
   "execution_count": 106,
   "metadata": {
    "collapsed": false
   },
   "outputs": [
    {
     "name": "stderr",
     "output_type": "stream",
     "text": [
      "\n",
      "  0%|                                                | 0/61191 [00:00<?, ?it/s]\n",
      " 24%|███████▌                        | 14457/61191 [00:00<00:00, 143138.51it/s]\n",
      " 48%|███████████████▍                | 29545/61191 [00:00<00:00, 144957.30it/s]\n",
      " 73%|███████████████████████▍        | 44726/61191 [00:00<00:00, 146947.20it/s]\n",
      " 89%|████████████████████████████▌   | 54522/61191 [00:00<00:00, 122965.92it/s]\n",
      "100%|████████████████████████████████| 61191/61191 [00:00<00:00, 132448.08it/s]"
     ]
    }
   ],
   "source": [
    "f = open('prediction + rf.csv', 'w')\n",
    "f.write('image_name,tags\\n')\n",
    "\n",
    "prediction = X_predictid\n",
    "img_names = X_test_names\n",
    "treshold = 0.2\n",
    "\n",
    "for i in tqdm(range(prediction.shape[0])):\n",
    "    line = img_names[i][0:-4] + ','\n",
    "    for j in range(prediction.shape[1]):\n",
    "        if prediction[i, j] >= treshold:\n",
    "            line += cathegories[j] + ' '\n",
    "\n",
    "    f.write(line + '\\n')\n",
    "\n",
    "f.close()"
   ]
  },
  {
   "cell_type": "code",
   "execution_count": null,
   "metadata": {
    "collapsed": false
   },
   "outputs": [],
   "source": []
  }
 ],
 "metadata": {
  "anaconda-cloud": {},
  "kernelspec": {
   "display_name": "Python [Root]",
   "language": "python",
   "name": "Python [Root]"
  },
  "language_info": {
   "codemirror_mode": {
    "name": "ipython",
    "version": 3
   },
   "file_extension": ".py",
   "mimetype": "text/x-python",
   "name": "python",
   "nbconvert_exporter": "python",
   "pygments_lexer": "ipython3",
   "version": "3.5.1"
  }
 },
 "nbformat": 4,
 "nbformat_minor": 1
}
