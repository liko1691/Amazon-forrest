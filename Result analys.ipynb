{
 "cells": [
  {
   "cell_type": "code",
   "execution_count": 1,
   "metadata": {
    "collapsed": true
   },
   "outputs": [],
   "source": [
    "import numpy as np\n",
    "import pandas as pd"
   ]
  },
  {
   "cell_type": "markdown",
   "metadata": {},
   "source": [
    "загружаем данные"
   ]
  },
  {
   "cell_type": "code",
   "execution_count": 9,
   "metadata": {
    "collapsed": true
   },
   "outputs": [],
   "source": [
    "cathegories = ['agriculture', 'artisinal_mine', 'bare_ground', \n",
    "                      'blooming', 'blow_down', 'clear', 'cloudy', 'conventional_mine', \n",
    "                      'cultivation', 'habitation', 'haze', 'partly_cloudy', 'primary', \n",
    "                      'road', 'selective_logging', 'slash_burn', 'water']"
   ]
  },
  {
   "cell_type": "code",
   "execution_count": 3,
   "metadata": {
    "collapsed": false
   },
   "outputs": [],
   "source": [
    "x_test_prediction = np.loadtxt('x_test_prediction.csv',delimiter=',')\n",
    "x_test_real = np.loadtxt('x_test_real.csv', delimiter=',')"
   ]
  },
  {
   "cell_type": "markdown",
   "metadata": {},
   "source": [
    "функции"
   ]
  },
  {
   "cell_type": "code",
   "execution_count": 7,
   "metadata": {
    "collapsed": true
   },
   "outputs": [],
   "source": [
    "def BinimialPrediction(X, treshold = 0.5):\n",
    "    result = np.zeros(X.shape)\n",
    "    \n",
    "    if type(treshold) == int or type(treshold) == float:\n",
    "        for i in range(X.shape[0]):\n",
    "            for j in range(X.shape[1]):\n",
    "                if X[i, j] >= treshold:\n",
    "                    result[i, j] = 1\n",
    "    elif type(treshold) == list:\n",
    "        for i in range(X.shape[0]):\n",
    "            for j in range(X.shape[1]):\n",
    "                if X[i, j] >= treshold[j]:\n",
    "                    result[i, j] = 1\n",
    "    else:\n",
    "        print('treshold type must be int, float or list')\n",
    "    \n",
    "    return(result)\n",
    "\n",
    "def FBettaScore(x_true, x_predicted, betta = 2):\n",
    "    if len(x_true) == len(x_predicted):\n",
    "        tp = 0\n",
    "        fp = 0\n",
    "        fn = 0\n",
    "\n",
    "        for i in range(len(x_predicted)):\n",
    "            if x_true[i] == 1 and x_predicted[i] == 1:\n",
    "                tp += 1\n",
    "            \n",
    "            if x_true[i] == 0 and x_predicted[i] == 1:\n",
    "                fp += 1\n",
    "            \n",
    "            if x_true[i] == 1 and x_predicted[i] == 0:\n",
    "                fn += 1\n",
    "        \n",
    "        if tp == 0 or (tp + fp) == 0 or (tp + fn) == 0:\n",
    "            return(0)\n",
    "        else:\n",
    "            precision = tp/(tp + fp)\n",
    "            recall = tp/(tp + fn)\n",
    "            \n",
    "            return((1 + betta**2)*precision*recall/(betta**2*precision + recall))\n",
    "    else:\n",
    "        print('FBettaScore error! len(x_true) != len(x_predicted)')\n",
    "\n",
    "def AvgFBettaScore(x_true, x_predicted, betta = 2, treshold = 0.5):\n",
    "    result = 0\n",
    "    n = x_true.shape[0]\n",
    "    \n",
    "    x_predicted = BinimialPrediction(x_predicted, treshold)\n",
    "    \n",
    "    for i in range(n):\n",
    "        result += FBettaScore(x_true[i, :], x_predicted[i, :], betta)\n",
    "    \n",
    "    return(result/n)\n"
   ]
  },
  {
   "cell_type": "code",
   "execution_count": 10,
   "metadata": {
    "collapsed": false
   },
   "outputs": [
    {
     "data": {
      "text/plain": [
       "0.9043313365016242"
      ]
     },
     "execution_count": 10,
     "metadata": {},
     "output_type": "execute_result"
    }
   ],
   "source": [
    "x_test_binomial = BinimialPrediction(x_test_prediction, treshold = 0.2)\n",
    "AvgFBettaScore(x_test_real, x_test_prediction, betta = 2, treshold = 0.2)"
   ]
  },
  {
   "cell_type": "code",
   "execution_count": 21,
   "metadata": {
    "collapsed": false
   },
   "outputs": [
    {
     "data": {
      "text/html": [
       "<div>\n",
       "<table border=\"1\" class=\"dataframe\">\n",
       "  <thead>\n",
       "    <tr style=\"text-align: right;\">\n",
       "      <th></th>\n",
       "      <th>tp</th>\n",
       "      <th>fp</th>\n",
       "      <th>fn</th>\n",
       "      <th>cnt</th>\n",
       "    </tr>\n",
       "  </thead>\n",
       "  <tbody>\n",
       "    <tr>\n",
       "      <th>agriculture</th>\n",
       "      <td>13783</td>\n",
       "      <td>5456</td>\n",
       "      <td>1021</td>\n",
       "      <td>14804</td>\n",
       "    </tr>\n",
       "    <tr>\n",
       "      <th>artisinal_mine</th>\n",
       "      <td>262</td>\n",
       "      <td>126</td>\n",
       "      <td>129</td>\n",
       "      <td>391</td>\n",
       "    </tr>\n",
       "    <tr>\n",
       "      <th>bare_ground</th>\n",
       "      <td>298</td>\n",
       "      <td>542</td>\n",
       "      <td>736</td>\n",
       "      <td>1034</td>\n",
       "    </tr>\n",
       "    <tr>\n",
       "      <th>blooming</th>\n",
       "      <td>20</td>\n",
       "      <td>54</td>\n",
       "      <td>368</td>\n",
       "      <td>388</td>\n",
       "    </tr>\n",
       "    <tr>\n",
       "      <th>blow_down</th>\n",
       "      <td>11</td>\n",
       "      <td>18</td>\n",
       "      <td>91</td>\n",
       "      <td>102</td>\n",
       "    </tr>\n",
       "    <tr>\n",
       "      <th>clear</th>\n",
       "      <td>33784</td>\n",
       "      <td>2485</td>\n",
       "      <td>510</td>\n",
       "      <td>34294</td>\n",
       "    </tr>\n",
       "    <tr>\n",
       "      <th>cloudy</th>\n",
       "      <td>2303</td>\n",
       "      <td>965</td>\n",
       "      <td>177</td>\n",
       "      <td>2480</td>\n",
       "    </tr>\n",
       "    <tr>\n",
       "      <th>conventional_mine</th>\n",
       "      <td>22</td>\n",
       "      <td>20</td>\n",
       "      <td>92</td>\n",
       "      <td>114</td>\n",
       "    </tr>\n",
       "    <tr>\n",
       "      <th>cultivation</th>\n",
       "      <td>3598</td>\n",
       "      <td>4783</td>\n",
       "      <td>1754</td>\n",
       "      <td>5352</td>\n",
       "    </tr>\n",
       "    <tr>\n",
       "      <th>habitation</th>\n",
       "      <td>2978</td>\n",
       "      <td>3219</td>\n",
       "      <td>1543</td>\n",
       "      <td>4521</td>\n",
       "    </tr>\n",
       "    <tr>\n",
       "      <th>haze</th>\n",
       "      <td>2542</td>\n",
       "      <td>1691</td>\n",
       "      <td>735</td>\n",
       "      <td>3277</td>\n",
       "    </tr>\n",
       "    <tr>\n",
       "      <th>partly_cloudy</th>\n",
       "      <td>7840</td>\n",
       "      <td>1087</td>\n",
       "      <td>681</td>\n",
       "      <td>8521</td>\n",
       "    </tr>\n",
       "    <tr>\n",
       "      <th>primary</th>\n",
       "      <td>44744</td>\n",
       "      <td>1422</td>\n",
       "      <td>287</td>\n",
       "      <td>45031</td>\n",
       "    </tr>\n",
       "    <tr>\n",
       "      <th>road</th>\n",
       "      <td>8363</td>\n",
       "      <td>4983</td>\n",
       "      <td>1427</td>\n",
       "      <td>9790</td>\n",
       "    </tr>\n",
       "    <tr>\n",
       "      <th>selective_logging</th>\n",
       "      <td>50</td>\n",
       "      <td>108</td>\n",
       "      <td>349</td>\n",
       "      <td>399</td>\n",
       "    </tr>\n",
       "    <tr>\n",
       "      <th>slash_burn</th>\n",
       "      <td>0</td>\n",
       "      <td>52</td>\n",
       "      <td>266</td>\n",
       "      <td>266</td>\n",
       "    </tr>\n",
       "    <tr>\n",
       "      <th>water</th>\n",
       "      <td>6618</td>\n",
       "      <td>4098</td>\n",
       "      <td>2347</td>\n",
       "      <td>8965</td>\n",
       "    </tr>\n",
       "  </tbody>\n",
       "</table>\n",
       "</div>"
      ],
      "text/plain": [
       "                      tp    fp    fn    cnt\n",
       "agriculture        13783  5456  1021  14804\n",
       "artisinal_mine       262   126   129    391\n",
       "bare_ground          298   542   736   1034\n",
       "blooming              20    54   368    388\n",
       "blow_down             11    18    91    102\n",
       "clear              33784  2485   510  34294\n",
       "cloudy              2303   965   177   2480\n",
       "conventional_mine     22    20    92    114\n",
       "cultivation         3598  4783  1754   5352\n",
       "habitation          2978  3219  1543   4521\n",
       "haze                2542  1691   735   3277\n",
       "partly_cloudy       7840  1087   681   8521\n",
       "primary            44744  1422   287  45031\n",
       "road                8363  4983  1427   9790\n",
       "selective_logging     50   108   349    399\n",
       "slash_burn             0    52   266    266\n",
       "water               6618  4098  2347   8965"
      ]
     },
     "execution_count": 21,
     "metadata": {},
     "output_type": "execute_result"
    }
   ],
   "source": [
    "errors = np.zeros((len(cathegories), 4))\n",
    "\n",
    "for i in range(x_test_binomial.shape[0]):\n",
    "    for j in range(x_test_binomial.shape[1]):\n",
    "        predicted = x_test_binomial[i, j]\n",
    "        real = x_test_real[i, j]\n",
    "        \n",
    "        \n",
    "        if predicted == 1 and real == 1:\n",
    "            errors[j, 0] += 1\n",
    "        \n",
    "        if predicted == 1 and real == 0:\n",
    "            errors[j, 1] += 1\n",
    "        \n",
    "        if predicted == 0 and real == 1:\n",
    "            errors[j, 2] += 1\n",
    "        \n",
    "        if real == 1:\n",
    "            errors[j, 3] += 1\n",
    "\n",
    "errors = errors.astype(int)\n",
    "errors_df = pd.DataFrame(errors, index= cathegories, columns= ['tp', 'fp', 'fn', 'cnt'])\n",
    "errors_df"
   ]
  },
  {
   "cell_type": "code",
   "execution_count": 31,
   "metadata": {
    "collapsed": false
   },
   "outputs": [],
   "source": [
    "x_test_binomial_weather = x_test_binomial[:, [cathegories.index(i) for i in ['clear', 'cloudy', 'haze', 'partly_cloudy']]]"
   ]
  },
  {
   "cell_type": "code",
   "execution_count": 33,
   "metadata": {
    "collapsed": false
   },
   "outputs": [
    {
     "data": {
      "text/plain": [
       "(3971, 0.08174987133299022, 2.0418030722739866)"
      ]
     },
     "execution_count": 33,
     "metadata": {},
     "output_type": "execute_result"
    }
   ],
   "source": [
    "cnt = 0\n",
    "s = 0\n",
    "\n",
    "for i in range(x_test_binomial_weather.shape[0]):\n",
    "    if sum(x_test_binomial_weather[i, :]) > 1:\n",
    "        cnt += 1\n",
    "        s += sum(x_test_binomial_weather[i, :])\n",
    "\n",
    "cnt, cnt/x_test_binomial_weather.shape[0], s/cnt"
   ]
  }
 ],
 "metadata": {
  "kernelspec": {
   "display_name": "Python [Root]",
   "language": "python",
   "name": "Python [Root]"
  },
  "language_info": {
   "codemirror_mode": {
    "name": "ipython",
    "version": 3
   },
   "file_extension": ".py",
   "mimetype": "text/x-python",
   "name": "python",
   "nbconvert_exporter": "python",
   "pygments_lexer": "ipython3",
   "version": "3.5.1"
  }
 },
 "nbformat": 4,
 "nbformat_minor": 0
}
